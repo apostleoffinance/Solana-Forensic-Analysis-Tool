{
 "cells": [
  {
   "cell_type": "code",
   "execution_count": 25,
   "id": "a60d9acf",
   "metadata": {},
   "outputs": [],
   "source": [
    "import pandas as pd \n",
    "import ast \n",
    "import json"
   ]
  },
  {
   "cell_type": "code",
   "execution_count": 26,
   "id": "5e18b648",
   "metadata": {},
   "outputs": [],
   "source": [
    "test_address = 'AGPZnBZUxmhAtcp8XjT4n8bCia9dEYhhm16M2sfFvmTU'\n",
    "WRAPPED_SOL = \"So11111111111111111111111111111111111111112\"\n",
    "NATIVE_SOL  = \"So11111111111111111111111111111111111111111\""
   ]
  },
  {
   "cell_type": "code",
   "execution_count": 27,
   "id": "7d159901",
   "metadata": {},
   "outputs": [],
   "source": [
    "test_wallet_timeseries = pd.read_csv('../data/processed/test_acc_timeseries_labeled.csv')\n",
    "\n",
    "test_wallet_timeseries['timestamp'] = pd.to_datetime(test_wallet_timeseries['timestamp'])\n",
    "received_tx = test_wallet_timeseries[test_wallet_timeseries['receiver']==test_address]\n",
    "sent_tx = test_wallet_timeseries[test_wallet_timeseries['sender']==test_address]"
   ]
  },
  {
   "cell_type": "code",
   "execution_count": 28,
   "id": "00367c84",
   "metadata": {},
   "outputs": [
    {
     "data": {
      "text/plain": [
       "493"
      ]
     },
     "execution_count": 28,
     "metadata": {},
     "output_type": "execute_result"
    }
   ],
   "source": [
    "#Total recognized transactions \n",
    "\n",
    "test_wallet_timeseries\n",
    "\n",
    "total_tx = test_wallet_timeseries['signature'].nunique()\n",
    "total_tx"
   ]
  },
  {
   "cell_type": "code",
   "execution_count": 29,
   "id": "2a95fe55",
   "metadata": {},
   "outputs": [
    {
     "data": {
      "text/plain": [
       "np.float64(47.911934371)"
      ]
     },
     "execution_count": 29,
     "metadata": {},
     "output_type": "execute_result"
    }
   ],
   "source": [
    "#Total SOL sent volume\n",
    "\n",
    "sol_sent_vol = sent_tx[sent_tx['token_address']==NATIVE_SOL]['token_amount'].sum()\n",
    "sol_sent_vol"
   ]
  },
  {
   "cell_type": "code",
   "execution_count": 30,
   "id": "2b1d62d5",
   "metadata": {},
   "outputs": [
    {
     "data": {
      "text/plain": [
       "np.float64(47.641967637)"
      ]
     },
     "execution_count": 30,
     "metadata": {},
     "output_type": "execute_result"
    }
   ],
   "source": [
    "#Total SOL received volume\n",
    "\n",
    "sol_received_vol = received_tx[received_tx['token_address']==NATIVE_SOL]['token_amount'].sum()\n",
    "sol_received_vol"
   ]
  },
  {
   "cell_type": "code",
   "execution_count": 31,
   "id": "b2ca6824",
   "metadata": {},
   "outputs": [
    {
     "data": {
      "text/plain": [
       "{'token_amount': {'$WEN': 643652.0,\n",
       "  'BLZE': 195.106114674,\n",
       "  'BSOL': 5.571652628,\n",
       "  'JITOSOL': 1.130972666,\n",
       "  'KMNO': 84.916367,\n",
       "  'MSOL': 0.340143184,\n",
       "  'NEON': 4.850918013,\n",
       "  'PENGU': 3490.0,\n",
       "  'PYUSD': 15865.709742,\n",
       "  'SOL': 1.58567275,\n",
       "  'USDC': 2468.463001,\n",
       "  'USDT': 6693.240062}}"
      ]
     },
     "execution_count": 31,
     "metadata": {},
     "output_type": "execute_result"
    }
   ],
   "source": [
    "# Total received volume by token\n",
    "\n",
    "token_received_df = received_tx[received_tx['token_address']!=NATIVE_SOL]\n",
    "tokens_recieved_dict = token_received_df.groupby('SYMBOL')[['token_amount']].sum().to_dict()\n",
    "tokens_recieved_dict"
   ]
  },
  {
   "cell_type": "code",
   "execution_count": 32,
   "id": "03731420",
   "metadata": {},
   "outputs": [
    {
     "data": {
      "text/plain": [
       "{'token_amount': {'$WEN': 1287304.0,\n",
       "  'BLZE': 1298.4623413030001,\n",
       "  'BSOL': 5.571652628,\n",
       "  'JITOSOL': 1.12680855,\n",
       "  'KMNO': 95.038552,\n",
       "  'MSOL': 0.340143184,\n",
       "  'PENGU': 3490.0,\n",
       "  'PYUSD': 15865.709742000001,\n",
       "  'SOL': 0.560430994,\n",
       "  'USDC': 2468.463001,\n",
       "  'USDT': 6693.240062}}"
      ]
     },
     "execution_count": 32,
     "metadata": {},
     "output_type": "execute_result"
    }
   ],
   "source": [
    "# Total sent volume by token\n",
    "\n",
    "token_sent_df = sent_tx[sent_tx['token_address']!=NATIVE_SOL]\n",
    "tokens_sent_dict = token_sent_df.groupby('SYMBOL')[['token_amount']].sum().to_dict()\n",
    "tokens_sent_dict"
   ]
  },
  {
   "cell_type": "code",
   "execution_count": 33,
   "id": "42b7c95f",
   "metadata": {},
   "outputs": [],
   "source": [
    "pd.set_option('display.float_format', '{:.8f}'.format)\n",
    "# Allow wider display for signature or other long strings\n",
    "pd.set_option('display.max_colwidth', None)  # or use a large number like 200\n",
    "pd.set_option('display.max_columns', None)   # ensures all columns are shown\n",
    "pd.set_option('display.width', 200)    "
   ]
  },
  {
   "cell_type": "code",
   "execution_count": 34,
   "id": "f65efb06-859b-4157-9d98-d0c7e2af5d26",
   "metadata": {},
   "outputs": [],
   "source": [
    "# First tx time\n",
    "\n",
    "first_tx = test_wallet_timeseries['timestamp'].min()"
   ]
  },
  {
   "cell_type": "code",
   "execution_count": 35,
   "id": "be98e469",
   "metadata": {},
   "outputs": [],
   "source": [
    "# Latest tx time\n",
    "\n",
    "last_tx = test_wallet_timeseries['timestamp'].max()"
   ]
  },
  {
   "cell_type": "code",
   "execution_count": 36,
   "id": "07f6eb85",
   "metadata": {},
   "outputs": [],
   "source": [
    "test_wallet_timeseries = test_wallet_timeseries.sort_values('timestamp')"
   ]
  },
  {
   "cell_type": "code",
   "execution_count": 37,
   "id": "d763872f",
   "metadata": {},
   "outputs": [
    {
     "name": "stdout",
     "output_type": "stream",
     "text": [
      "avg_tx_interval: 0 days 12:24:41.231707317\n"
     ]
    }
   ],
   "source": [
    "# Avg tx interval\n",
    "\n",
    "avg_tx_interval = test_wallet_timeseries['timestamp'].diff().mean()\n",
    "print(f'avg_tx_interval: {avg_tx_interval}')\n",
    "\n",
    "avg_seconds = avg_tx_interval.total_seconds()\n",
    "avg_minutes = avg_seconds / 60\n",
    "avg_hours = avg_seconds / 3600"
   ]
  },
  {
   "cell_type": "code",
   "execution_count": 38,
   "id": "fc6415e2",
   "metadata": {},
   "outputs": [],
   "source": [
    "# Number of unique receivers\n",
    "\n",
    "unique_receivers = len(test_wallet_timeseries['receiver'].unique())"
   ]
  },
  {
   "cell_type": "code",
   "execution_count": 39,
   "id": "b2039437",
   "metadata": {},
   "outputs": [],
   "source": [
    "# Number of unique senders\n",
    "\n",
    "unique_senders = len(test_wallet_timeseries['sender'].unique())"
   ]
  },
  {
   "cell_type": "code",
   "execution_count": 40,
   "id": "53ac55e4",
   "metadata": {},
   "outputs": [
    {
     "data": {
      "text/plain": [
       "{'wallet_address': 'AGPZnBZUxmhAtcp8XjT4n8bCia9dEYhhm16M2sfFvmTU',\n",
       " 'entity_label': 'Unknown Entity',\n",
       " 'num_transactions': 493,\n",
       " 'total_sol_volume_sent': np.float64(47.911934371),\n",
       " 'total_sol_volume_received': np.float64(47.641967637),\n",
       " 'total_token_volume_sent': {'token_amount': {'$WEN': 1287304.0,\n",
       "   'BLZE': 1298.4623413030001,\n",
       "   'BSOL': 5.571652628,\n",
       "   'JITOSOL': 1.12680855,\n",
       "   'KMNO': 95.038552,\n",
       "   'MSOL': 0.340143184,\n",
       "   'PENGU': 3490.0,\n",
       "   'PYUSD': 15865.709742000001,\n",
       "   'SOL': 0.560430994,\n",
       "   'USDC': 2468.463001,\n",
       "   'USDT': 6693.240062}},\n",
       " 'total_token_volume_recieved': {'token_amount': {'$WEN': 643652.0,\n",
       "   'BLZE': 195.106114674,\n",
       "   'BSOL': 5.571652628,\n",
       "   'JITOSOL': 1.130972666,\n",
       "   'KMNO': 84.916367,\n",
       "   'MSOL': 0.340143184,\n",
       "   'NEON': 4.850918013,\n",
       "   'PENGU': 3490.0,\n",
       "   'PYUSD': 15865.709742,\n",
       "   'SOL': 1.58567275,\n",
       "   'USDC': 2468.463001,\n",
       "   'USDT': 6693.240062}},\n",
       " 'first_tx_time': Timestamp('2023-11-14 15:20:07'),\n",
       " 'last_tx_time': Timestamp('2025-04-06 12:12:19'),\n",
       " 'avg_tx_interval (seconds)': 44681.231707,\n",
       " 'num_unique_senders': 105,\n",
       " 'num_unique_receivers': 176}"
      ]
     },
     "execution_count": 40,
     "metadata": {},
     "output_type": "execute_result"
    }
   ],
   "source": [
    "wallet_analysis_dict = {\n",
    "    'wallet_address':test_address,\n",
    "    'entity_label': test_wallet_timeseries['wallet_entity_label'].iloc[0],\n",
    "    'num_transactions': total_tx,\n",
    "    'total_sol_volume_sent': sol_sent_vol,\n",
    "    'total_sol_volume_received': sol_received_vol,\n",
    "    'total_token_volume_sent':tokens_sent_dict,\n",
    "    'total_token_volume_recieved':tokens_recieved_dict,\n",
    "    'first_tx_time':first_tx,\n",
    "    'last_tx_time':last_tx,\n",
    "    'avg_tx_interval (seconds)':avg_seconds,\n",
    "    'num_unique_senders':unique_senders,\n",
    "    'num_unique_receivers':unique_receivers\n",
    "}\n",
    "\n",
    "wallet_analysis_dict"
   ]
  },
  {
   "cell_type": "code",
   "execution_count": 41,
   "id": "976a8f57",
   "metadata": {},
   "outputs": [
    {
     "name": "stdout",
     "output_type": "stream",
     "text": [
      "Stored 'wallet_analysis_df' (DataFrame)\n"
     ]
    }
   ],
   "source": [
    "wallet_analysis_df = pd.DataFrame([wallet_analysis_dict]) # I think token vol sent/received should be tracked as its own DF\n",
    "wallet_analysis_df.head()\n",
    "%store wallet_analysis_df"
   ]
  },
  {
   "cell_type": "code",
   "execution_count": 42,
   "id": "e1f90db6",
   "metadata": {},
   "outputs": [
    {
     "data": {
      "text/html": [
       "<div>\n",
       "<style scoped>\n",
       "    .dataframe tbody tr th:only-of-type {\n",
       "        vertical-align: middle;\n",
       "    }\n",
       "\n",
       "    .dataframe tbody tr th {\n",
       "        vertical-align: top;\n",
       "    }\n",
       "\n",
       "    .dataframe thead th {\n",
       "        text-align: right;\n",
       "    }\n",
       "</style>\n",
       "<table border=\"1\" class=\"dataframe\">\n",
       "  <thead>\n",
       "    <tr style=\"text-align: right;\">\n",
       "      <th></th>\n",
       "      <th>wallet_address</th>\n",
       "      <th>entity_label</th>\n",
       "      <th>num_transactions</th>\n",
       "      <th>total_sol_volume_sent</th>\n",
       "      <th>total_sol_volume_received</th>\n",
       "      <th>total_token_volume_sent</th>\n",
       "      <th>total_token_volume_recieved</th>\n",
       "      <th>first_tx_time</th>\n",
       "      <th>last_tx_time</th>\n",
       "      <th>avg_tx_interval (seconds)</th>\n",
       "      <th>num_unique_senders</th>\n",
       "      <th>num_unique_receivers</th>\n",
       "    </tr>\n",
       "  </thead>\n",
       "  <tbody>\n",
       "    <tr>\n",
       "      <th>0</th>\n",
       "      <td>AGPZnBZUxmhAtcp8XjT4n8bCia9dEYhhm16M2sfFvmTU</td>\n",
       "      <td>Unknown Entity</td>\n",
       "      <td>493</td>\n",
       "      <td>47.91193437</td>\n",
       "      <td>47.64196764</td>\n",
       "      <td>{'token_amount': {'$WEN': 1287304.0, 'BLZE': 1298.4623413030001, 'BSOL': 5.571652628, 'JITOSOL': 1.12680855, 'KMNO': 95.038552, 'MSOL': 0.340143184, 'PENGU': 3490.0, 'PYUSD': 15865.709742000001, 'SOL': 0.560430994, 'USDC': 2468.463001, 'USDT': 6693.240062}}</td>\n",
       "      <td>{'token_amount': {'$WEN': 643652.0, 'BLZE': 195.106114674, 'BSOL': 5.571652628, 'JITOSOL': 1.130972666, 'KMNO': 84.916367, 'MSOL': 0.340143184, 'NEON': 4.850918013, 'PENGU': 3490.0, 'PYUSD': 15865.709742, 'SOL': 1.58567275, 'USDC': 2468.463001, 'USDT': 6693.240062}}</td>\n",
       "      <td>2023-11-14 15:20:07</td>\n",
       "      <td>2025-04-06 12:12:19</td>\n",
       "      <td>44681.23170700</td>\n",
       "      <td>105</td>\n",
       "      <td>176</td>\n",
       "    </tr>\n",
       "  </tbody>\n",
       "</table>\n",
       "</div>"
      ],
      "text/plain": [
       "                                 wallet_address    entity_label  num_transactions  total_sol_volume_sent  total_sol_volume_received  \\\n",
       "0  AGPZnBZUxmhAtcp8XjT4n8bCia9dEYhhm16M2sfFvmTU  Unknown Entity               493            47.91193437                47.64196764   \n",
       "\n",
       "                                                                                                                                                                                                                                             total_token_volume_sent  \\\n",
       "0  {'token_amount': {'$WEN': 1287304.0, 'BLZE': 1298.4623413030001, 'BSOL': 5.571652628, 'JITOSOL': 1.12680855, 'KMNO': 95.038552, 'MSOL': 0.340143184, 'PENGU': 3490.0, 'PYUSD': 15865.709742000001, 'SOL': 0.560430994, 'USDC': 2468.463001, 'USDT': 6693.240062}}   \n",
       "\n",
       "                                                                                                                                                                                                                                                  total_token_volume_recieved  \\\n",
       "0  {'token_amount': {'$WEN': 643652.0, 'BLZE': 195.106114674, 'BSOL': 5.571652628, 'JITOSOL': 1.130972666, 'KMNO': 84.916367, 'MSOL': 0.340143184, 'NEON': 4.850918013, 'PENGU': 3490.0, 'PYUSD': 15865.709742, 'SOL': 1.58567275, 'USDC': 2468.463001, 'USDT': 6693.240062}}   \n",
       "\n",
       "        first_tx_time        last_tx_time  avg_tx_interval (seconds)  num_unique_senders  num_unique_receivers  \n",
       "0 2023-11-14 15:20:07 2025-04-06 12:12:19             44681.23170700                 105                   176  "
      ]
     },
     "execution_count": 42,
     "metadata": {},
     "output_type": "execute_result"
    }
   ],
   "source": [
    "wallet_analysis_df.head()"
   ]
  },
  {
   "cell_type": "markdown",
   "id": "cf462614",
   "metadata": {},
   "source": [
    "# Track funding sources and flow of assets"
   ]
  },
  {
   "cell_type": "code",
   "execution_count": 43,
   "id": "753f93ac",
   "metadata": {},
   "outputs": [],
   "source": [
    "\n",
    "# Wallet Analysis Module\n",
    "class WalletAnalysis:\n",
    "    def __init__(self, df):\n",
    "        self.df = df\n",
    "    \n",
    "    def track_funding_sources_and_flow(self, wallet_address):\n",
    "        wallet_data = self.df[self.df['wallet_address'] == wallet_address]\n",
    "        if wallet_data.empty:\n",
    "            return {\"error\": \"Wallet address not found\"}\n",
    "\n",
    "        # Copy relevant subset\n",
    "        funding_sources = self.df[[\n",
    "            'wallet_address',\n",
    "            'entity_label',\n",
    "            'num_unique_senders',\n",
    "            'num_unique_receivers',\n",
    "            'total_sol_volume_sent',\n",
    "            'total_sol_volume_received',\n",
    "            'total_token_volume_sent',\n",
    "            'total_token_volume_recieved'\n",
    "        ]].copy()\n",
    "\n",
    "        # Parse and extract numeric totals from token dicts\n",
    "        funding_sources['Token Sent (Total)'] = funding_sources['total_token_volume_sent'].apply(\n",
    "            lambda x: self.extract_token_volumes(self.safe_parse(x))\n",
    "        )\n",
    "        funding_sources['Token Received (Total)'] = funding_sources['total_token_volume_recieved'].apply(\n",
    "            lambda x: self.extract_token_volumes(self.safe_parse(x))\n",
    "        )\n",
    "\n",
    "        # Rename other fields\n",
    "        funding_sources.rename(columns={\n",
    "            'wallet_address': 'Wallet Address',\n",
    "            'entity_label': 'Entity Label',\n",
    "            'num_unique_senders': 'Unique Senders',\n",
    "            'num_unique_receivers': 'Unique Receivers',\n",
    "            'total_sol_volume_sent': 'SOL Sent',\n",
    "            'total_sol_volume_received': 'SOL Received',\n",
    "        }, inplace=True)\n",
    "\n",
    "        return funding_sources\n",
    "\n",
    "\n",
    "    @staticmethod\n",
    "    def safe_parse(raw):\n",
    "        if isinstance(raw, dict):\n",
    "            return raw\n",
    "        try:\n",
    "            return json.loads(raw.replace(\"'\", \"\\\"\"))\n",
    "        except Exception:\n",
    "            return {}\n",
    "\n",
    "    @staticmethod\n",
    "    def extract_token_volumes(token_dict):\n",
    "        if isinstance(token_dict, dict) and 'token_amount' in token_dict:\n",
    "            return sum(token_dict['token_amount'].values())\n",
    "        return 0\n",
    "\n",
    "\n",
    "    \n",
    "    \n",
    "    def transaction_history(self, wallet_address):\n",
    "        # Filter data for the specified wallet\n",
    "        wallet_data = self.df[self.df['wallet_address'] == wallet_address]\n",
    "        \n",
    "        if wallet_data.empty:\n",
    "            return {\"error\": \"Wallet address not found\"}\n",
    "\n",
    "        # Parse token volumes safely\n",
    "        try:\n",
    "            token_sent = json.loads(wallet_data['total_token_volume_sent'].iloc[0].replace(\"'\", \"\\\"\"))\n",
    "        except (json.JSONDecodeError, TypeError, AttributeError):\n",
    "            token_sent = {}\n",
    "\n",
    "        try:\n",
    "            token_received = json.loads(wallet_data['total_token_volume_recieved'].iloc[0].replace(\"'\", \"\\\"\"))\n",
    "        except (json.JSONDecodeError, TypeError, AttributeError):\n",
    "            token_received = {}\n",
    "\n",
    "        # Construct transaction history summary\n",
    "        history = {\n",
    "            \"wallet_address\": wallet_address,\n",
    "            \"num_transactions\": wallet_data['num_transactions'].iloc[0],\n",
    "            \"total_sol_volume_sent\": wallet_data['total_sol_volume_sent'].iloc[0],\n",
    "            \"total_sol_volume_received\": wallet_data['total_sol_volume_received'].iloc[0],\n",
    "            \"total_token_volume_sent\": token_sent,\n",
    "            \"total_token_volume_received\": token_received,\n",
    "            \"first_transaction\": wallet_data['first_tx_time'].iloc[0],\n",
    "            \"last_transaction\": wallet_data['last_tx_time'].iloc[0],\n",
    "            \"avg_tx_interval_seconds\": wallet_data['avg_tx_interval (seconds)'].iloc[0]\n",
    "        }\n",
    "\n",
    "        return history\n",
    "\n",
    "    \n",
    "    def key_activity_patterns_and_risk_factors(self, wallet_address):\n",
    "        # Identifying key activity patterns: Average transaction interval, number of unique senders/receivers\n",
    "        wallet_data = self.df[self.df['wallet_address'] == wallet_address]\n",
    "        if wallet_data.empty:\n",
    "            return {\"error\": \"Wallet address not found\"}\n",
    "        \n",
    "        # Calculate activity metrics\n",
    "        first_tx = pd.to_datetime(wallet_data['first_tx_time'].iloc[0])\n",
    "        last_tx = pd.to_datetime(wallet_data['last_tx_time'].iloc[0])\n",
    "        active_period_days = (last_tx - first_tx).days\n",
    "        \n",
    "        patterns = {\n",
    "            \"wallet_address\": wallet_address,\n",
    "            \"active_period_days\": active_period_days,\n",
    "            \"avg_tx_per_day\": wallet_data['num_transactions'].iloc[0] / max(active_period_days, 1),\n",
    "            \"sender_to_receiver_ratio\": wallet_data['num_unique_senders'].iloc[0] / max(wallet_data['num_unique_receivers'].iloc[0], 1),\n",
    "            \"sol_net_flow\": wallet_data['total_sol_volume_received'].iloc[0] - wallet_data['total_sol_volume_sent'].iloc[0]\n",
    "        }\n",
    "        return patterns\n",
    "    \n",
    "    def _identify_risk_based_on_activity(self, wallet_address, sol_volume_threshold=100, tx_frequency_threshold=10, unknown_entity=True):\n",
    "        # A simple threshold logic to flag risky behavior based on high activity\n",
    "        wallet_data = self.df[self.df['wallet_address'] == wallet_address]\n",
    "        if wallet_data.empty:\n",
    "            return {\"error\": \"Wallet address not found\"}\n",
    "        \n",
    "        # Get activity patterns\n",
    "        patterns = self.identify_activity_patterns(wallet_address)\n",
    "        \n",
    "        # Initialize risk flags\n",
    "        risks = {\n",
    "            \"wallet_address\": wallet_address,\n",
    "            \"high_volume_risk\": False,\n",
    "            \"high_frequency_risk\": False,\n",
    "            \"unknown_entity_risk\": False,\n",
    "            \"risk_summary\": []\n",
    "        }\n",
    "        \n",
    "        # Check for high SOL volume\n",
    "        total_sol_volume = (wallet_data['total_sol_volume_sent'].iloc[0] + \n",
    "                           wallet_data['total_sol_volume_received'].iloc[0])\n",
    "        if total_sol_volume > sol_volume_threshold:\n",
    "            risks[\"high_volume_risk\"] = True\n",
    "            risks[\"risk_summary\"].append(f\"High SOL volume: {total_sol_volume:.2f} SOL\")\n",
    "        \n",
    "        # Check for high transaction frequency\n",
    "        if patterns[\"avg_tx_per_day\"] > tx_frequency_threshold:\n",
    "            risks[\"high_frequency_risk\"] = True\n",
    "            risks[\"risk_summary\"].append(f\"High tx frequency: {patterns['avg_tx_per_day']:.2f} tx/day\")\n",
    "        \n",
    "        # Check for unknown entity\n",
    "        if unknown_entity and wallet_data['entity_label'].iloc[0] == \"Unknown Entity\":\n",
    "            risks[\"unknown_entity_risk\"] = True\n",
    "            risks[\"risk_summary\"].append(\"Unknown entity label\")\n",
    "        \n",
    "        return risks\n"
   ]
  },
  {
   "cell_type": "code",
   "execution_count": 44,
   "id": "364395f0",
   "metadata": {},
   "outputs": [],
   "source": [
    "\n",
    "# # Wallet Analysis Module\n",
    "# class WalletAnalysis:\n",
    "#     def __init__(self, df):\n",
    "#         self.df = df\n",
    "    \n",
    "#     def track_funding_sources_and_flow(self, wallet_address):\n",
    "#         # Extract token volume totals\n",
    "#         # self.df['token_sent_total'] = self.df['total_token_volume_sent'].apply(self.extract_token_volumes)\n",
    "#         # self.df['token_received_total'] = self.df['total_token_volume_recieved'].apply(self.extract_token_volumes)\n",
    "\n",
    "#         wallet_data = self.df[self.df['wallet_address'] == wallet_address]\n",
    "#         if wallet_data.empty:\n",
    "#             return {\"error\": \"Wallet address not found\"}\n",
    "\n",
    "#         # Select and rename relevant fields\n",
    "#         funding_sources = self.df[[\n",
    "#             'wallet_address',\n",
    "#             'entity_label',\n",
    "#             'num_unique_senders',\n",
    "#             'num_unique_receivers',\n",
    "#             'total_sol_volume_sent',\n",
    "#             'total_sol_volume_received',\n",
    "#             'total_token_volume_sent',\n",
    "#             'total_token_volume_recieved'\n",
    "#         ]].copy()\n",
    "\n",
    "#         # Optional: rename columns for clarity\n",
    "#         funding_sources.columns = [\n",
    "#             'Wallet Address',\n",
    "#             'Entity Label',\n",
    "#             'Unique Senders',\n",
    "#             'Unique Receivers',\n",
    "#             'SOL Sent',\n",
    "#             'SOL Received',\n",
    "#             'Token Sent (Total)',\n",
    "#             'Token Received (Total)'\n",
    "#         ]\n",
    "\n",
    "#         return funding_sources\n",
    "\n",
    "\n",
    "#     @staticmethod\n",
    "#     def extract_token_volumes(token_dict):\n",
    "#         if isinstance(token_dict, dict) and 'token_amount' in token_dict:\n",
    "#             return sum(token_dict['token_amount'].values())\n",
    "#         return 0\n",
    "\n",
    "    \n",
    "    \n",
    "#     def transaction_history(self, wallet_address):\n",
    "#         # Filter data for the specified wallet\n",
    "#         wallet_data = self.df[self.df['wallet_address'] == wallet_address]\n",
    "        \n",
    "#         if wallet_data.empty:\n",
    "#             return {\"error\": \"Wallet address not found\"}\n",
    "\n",
    "#         # Parse token volumes safely\n",
    "#         try:\n",
    "#             token_sent = json.loads(wallet_data['total_token_volume_sent'].iloc[0].replace(\"'\", \"\\\"\"))\n",
    "#         except (json.JSONDecodeError, TypeError, AttributeError):\n",
    "#             token_sent = {}\n",
    "\n",
    "#         try:\n",
    "#             token_received = json.loads(wallet_data['total_token_volume_recieved'].iloc[0].replace(\"'\", \"\\\"\"))\n",
    "#         except (json.JSONDecodeError, TypeError, AttributeError):\n",
    "#             token_received = {}\n",
    "\n",
    "#         # Construct transaction history summary\n",
    "#         history = {\n",
    "#             \"wallet_address\": wallet_address,\n",
    "#             \"num_transactions\": wallet_data['num_transactions'].iloc[0],\n",
    "#             \"total_sol_volume_sent\": wallet_data['total_sol_volume_sent'].iloc[0],\n",
    "#             \"total_sol_volume_received\": wallet_data['total_sol_volume_received'].iloc[0],\n",
    "#             \"total_token_volume_sent\": token_sent,\n",
    "#             \"total_token_volume_received\": token_received,\n",
    "#             \"first_transaction\": wallet_data['first_tx_time'].iloc[0],\n",
    "#             \"last_transaction\": wallet_data['last_tx_time'].iloc[0],\n",
    "#             \"avg_tx_interval_seconds\": wallet_data['avg_tx_interval (seconds)'].iloc[0]\n",
    "#         }\n",
    "\n",
    "#         return history\n",
    "\n",
    "    \n",
    "#     def key_activity_patterns_and_risk_factors(self, wallet_address):\n",
    "#         # Identifying key activity patterns: Average transaction interval, number of unique senders/receivers\n",
    "#         wallet_data = self.df[self.df['wallet_address'] == wallet_address]\n",
    "#         if wallet_data.empty:\n",
    "#             return {\"error\": \"Wallet address not found\"}\n",
    "        \n",
    "#         # Calculate activity metrics\n",
    "#         first_tx = pd.to_datetime(wallet_data['first_tx_time'].iloc[0])\n",
    "#         last_tx = pd.to_datetime(wallet_data['last_tx_time'].iloc[0])\n",
    "#         active_period_days = (last_tx - first_tx).days\n",
    "        \n",
    "#         patterns = {\n",
    "#             \"wallet_address\": wallet_address,\n",
    "#             \"active_period_days\": active_period_days,\n",
    "#             \"avg_tx_per_day\": wallet_data['num_transactions'].iloc[0] / max(active_period_days, 1),\n",
    "#             \"sender_to_receiver_ratio\": wallet_data['num_unique_senders'].iloc[0] / max(wallet_data['num_unique_receivers'].iloc[0], 1),\n",
    "#             \"sol_net_flow\": wallet_data['total_sol_volume_received'].iloc[0] - wallet_data['total_sol_volume_sent'].iloc[0]\n",
    "#         }\n",
    "#         return patterns\n",
    "    \n",
    "#     def _identify_risk_based_on_activity(self, wallet_address, sol_volume_threshold=100, tx_frequency_threshold=10, unknown_entity=True):\n",
    "#         # A simple threshold logic to flag risky behavior based on high activity\n",
    "#         wallet_data = self.df[self.df['wallet_address'] == wallet_address]\n",
    "#         if wallet_data.empty:\n",
    "#             return {\"error\": \"Wallet address not found\"}\n",
    "        \n",
    "#         # Get activity patterns\n",
    "#         patterns = self.identify_activity_patterns(wallet_address)\n",
    "        \n",
    "#         # Initialize risk flags\n",
    "#         risks = {\n",
    "#             \"wallet_address\": wallet_address,\n",
    "#             \"high_volume_risk\": False,\n",
    "#             \"high_frequency_risk\": False,\n",
    "#             \"unknown_entity_risk\": False,\n",
    "#             \"risk_summary\": []\n",
    "#         }\n",
    "        \n",
    "#         # Check for high SOL volume\n",
    "#         total_sol_volume = (wallet_data['total_sol_volume_sent'].iloc[0] + \n",
    "#                            wallet_data['total_sol_volume_received'].iloc[0])\n",
    "#         if total_sol_volume > sol_volume_threshold:\n",
    "#             risks[\"high_volume_risk\"] = True\n",
    "#             risks[\"risk_summary\"].append(f\"High SOL volume: {total_sol_volume:.2f} SOL\")\n",
    "        \n",
    "#         # Check for high transaction frequency\n",
    "#         if patterns[\"avg_tx_per_day\"] > tx_frequency_threshold:\n",
    "#             risks[\"high_frequency_risk\"] = True\n",
    "#             risks[\"risk_summary\"].append(f\"High tx frequency: {patterns['avg_tx_per_day']:.2f} tx/day\")\n",
    "        \n",
    "#         # Check for unknown entity\n",
    "#         if unknown_entity and wallet_data['entity_label'].iloc[0] == \"Unknown Entity\":\n",
    "#             risks[\"unknown_entity_risk\"] = True\n",
    "#             risks[\"risk_summary\"].append(\"Unknown entity label\")\n",
    "        \n",
    "#         return risks\n"
   ]
  },
  {
   "cell_type": "code",
   "execution_count": 45,
   "id": "4fad04e9",
   "metadata": {},
   "outputs": [],
   "source": [
    "# Initialize Wallet Analysis Module\n",
    "wallet_analysis = WalletAnalysis(wallet_analysis_df)\n",
    "\n",
    "wallet_address = \"AGPZnBZUxmhAtcp8XjT4n8bCia9dEYhhm16M2sfFvmTU\"\n"
   ]
  },
  {
   "cell_type": "code",
   "execution_count": 46,
   "id": "96a69239",
   "metadata": {},
   "outputs": [
    {
     "name": "stdout",
     "output_type": "stream",
     "text": [
      "Funding Sources and Asset Flow:\n",
      "                                 Wallet Address    Entity Label  Unique Senders  Unique Receivers    SOL Sent  SOL Received  \\\n",
      "0  AGPZnBZUxmhAtcp8XjT4n8bCia9dEYhhm16M2sfFvmTU  Unknown Entity             105               176 47.91193437   47.64196764   \n",
      "\n",
      "                                                                                                                                                                                                                                             total_token_volume_sent  \\\n",
      "0  {'token_amount': {'$WEN': 1287304.0, 'BLZE': 1298.4623413030001, 'BSOL': 5.571652628, 'JITOSOL': 1.12680855, 'KMNO': 95.038552, 'MSOL': 0.340143184, 'PENGU': 3490.0, 'PYUSD': 15865.709742000001, 'SOL': 0.560430994, 'USDC': 2468.463001, 'USDT': 6693.240062}}   \n",
      "\n",
      "                                                                                                                                                                                                                                                  total_token_volume_recieved  \\\n",
      "0  {'token_amount': {'$WEN': 643652.0, 'BLZE': 195.106114674, 'BSOL': 5.571652628, 'JITOSOL': 1.130972666, 'KMNO': 84.916367, 'MSOL': 0.340143184, 'NEON': 4.850918013, 'PENGU': 3490.0, 'PYUSD': 15865.709742, 'SOL': 1.58567275, 'USDC': 2468.463001, 'USDT': 6693.240062}}   \n",
      "\n",
      "   Token Sent (Total)  Token Received (Total)  \n",
      "0    1317222.51273366         672462.91464592  \n"
     ]
    }
   ],
   "source": [
    "# Track funding sources and asset flow\n",
    "funding_sources = wallet_analysis.track_funding_sources_and_flow(wallet_address)\n",
    "print(\"Funding Sources and Asset Flow:\")\n",
    "print(funding_sources)"
   ]
  },
  {
   "cell_type": "code",
   "execution_count": 47,
   "id": "d6463178",
   "metadata": {},
   "outputs": [
    {
     "name": "stdout",
     "output_type": "stream",
     "text": [
      "\n",
      "Transaction History:\n",
      "{'wallet_address': 'AGPZnBZUxmhAtcp8XjT4n8bCia9dEYhhm16M2sfFvmTU', 'num_transactions': np.int64(493), 'total_sol_volume_sent': np.float64(47.911934371), 'total_sol_volume_received': np.float64(47.641967637), 'total_token_volume_sent': {}, 'total_token_volume_received': {}, 'first_transaction': Timestamp('2023-11-14 15:20:07'), 'last_transaction': Timestamp('2025-04-06 12:12:19'), 'avg_tx_interval_seconds': np.float64(44681.231707)}\n"
     ]
    }
   ],
   "source": [
    "# Transaction History\n",
    "transaction_history = wallet_analysis.transaction_history(wallet_address)\n",
    "print(\"\\nTransaction History:\")\n",
    "print(transaction_history)"
   ]
  },
  {
   "cell_type": "code",
   "execution_count": 48,
   "id": "c08f8262",
   "metadata": {},
   "outputs": [
    {
     "name": "stdout",
     "output_type": "stream",
     "text": [
      "\n",
      "Activity Patterns and Risk Factors:\n",
      "{'wallet_address': 'AGPZnBZUxmhAtcp8XjT4n8bCia9dEYhhm16M2sfFvmTU', 'active_period_days': 508, 'avg_tx_per_day': np.float64(0.9704724409448819), 'sender_to_receiver_ratio': np.float64(0.5965909090909091), 'sol_net_flow': np.float64(-0.2699667340000005)}\n"
     ]
    }
   ],
   "source": [
    "# Key Activity Patterns and Risk Factors\n",
    "activity_patterns = wallet_analysis.key_activity_patterns_and_risk_factors(wallet_address)\n",
    "print(\"\\nActivity Patterns and Risk Factors:\")\n",
    "print(activity_patterns)"
   ]
  }
 ],
 "metadata": {
  "kernelspec": {
   "display_name": "solana-forensics",
   "language": "python",
   "name": "python3"
  },
  "language_info": {
   "codemirror_mode": {
    "name": "ipython",
    "version": 3
   },
   "file_extension": ".py",
   "mimetype": "text/x-python",
   "name": "python",
   "nbconvert_exporter": "python",
   "pygments_lexer": "ipython3",
   "version": "3.13.2"
  }
 },
 "nbformat": 4,
 "nbformat_minor": 5
}
