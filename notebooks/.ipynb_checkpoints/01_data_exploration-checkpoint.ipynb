{
 "cells": [
  {
   "cell_type": "markdown",
   "metadata": {},
   "source": [
    "# Imports and Global Variables"
   ]
  },
  {
   "cell_type": "code",
   "execution_count": 2,
   "metadata": {},
   "outputs": [],
   "source": [
    "from typing import List\n",
    "from config.endpoints import MAINNET_BASE_URL\n",
    "from helpers.utility import _make_get_request, _make_post_request\n",
    "from helius import NFTAPI, NameAPI, BalancesAPI, WebhooksAPI, TransactionsAPI\n",
    "from dotenv import load_dotenv\n",
    "from pathlib import Path\n",
    "import requests\n",
    "import pandas as pd\n",
    "import numpy as np\n",
    "import os\n",
    "import time\n",
    "import json\n",
    "from collections import defaultdict\n"
   ]
  },
  {
   "cell_type": "code",
   "execution_count": 3,
   "metadata": {},
   "outputs": [],
   "source": [
    "try:\n",
    "    ROOT_DIR = Path(__file__).resolve().parent\n",
    "except NameError:\n",
    "    ROOT_DIR = Path(os.getcwd()).resolve()"
   ]
  },
  {
   "cell_type": "code",
   "execution_count": 4,
   "metadata": {},
   "outputs": [
    {
     "data": {
      "text/plain": [
       "WindowsPath('C:/Users/Brandyn/projects/solana_analysis_tool/notebooks')"
      ]
     },
     "execution_count": 4,
     "metadata": {},
     "output_type": "execute_result"
    }
   ],
   "source": [
    "ROOT_DIR"
   ]
  },
  {
   "cell_type": "code",
   "execution_count": 5,
   "metadata": {},
   "outputs": [],
   "source": [
    "# Persistent Variables\n",
    "\n",
    "LAMPORT_SCALE = 1e9"
   ]
  },
  {
   "cell_type": "code",
   "execution_count": 6,
   "metadata": {},
   "outputs": [
    {
     "data": {
      "text/plain": [
       "True"
      ]
     },
     "execution_count": 6,
     "metadata": {},
     "output_type": "execute_result"
    }
   ],
   "source": [
    "load_dotenv()"
   ]
  },
  {
   "cell_type": "code",
   "execution_count": 7,
   "metadata": {},
   "outputs": [],
   "source": [
    "# class TransactionsAPI:\n",
    "#     def __init__(self, api_key: str):\n",
    "#         self.base_url = MAINNET_BASE_URL\n",
    "#         self.headers = {\"Authorization\": f\"Bearer {api_key}\"}\n",
    "#         self.api_key_query = f\"?api-key={api_key}\"\n",
    "\n",
    "#     def get_raw_transactions(\n",
    "#         self, \n",
    "#         accounts: List[str], \n",
    "#         start_slot: int=None,\n",
    "#         end_slot: int=None,\n",
    "#         start_time: int=None,\n",
    "#         end_time: int=None,\n",
    "#         limit: int=None,\n",
    "#         sort_order: str=None,\n",
    "#         pagination_token: str=None\n",
    "#         ):\n",
    "\n",
    "#         path = \"/v1/raw-transactions\"\n",
    "#         url = self.base_url + path + self.api_key_query\n",
    "#         payload = {\n",
    "#             \"query\": {\n",
    "#                 \"accounts\": accounts,\n",
    "#                 \"startSlot\": start_slot,\n",
    "#                 \"endSlot\": end_slot,\n",
    "#                 \"startTime\": start_time,\n",
    "#                 \"endTime\": end_time\n",
    "#             },\n",
    "#             \"options\": {\n",
    "#                 \"limit\": limit,\n",
    "#                 \"sortOrder\": sort_order,\n",
    "#                 \"paginationToken\": pagination_token\n",
    "#             }\n",
    "#         }\n",
    "#         return _make_post_request(url, payload)\n",
    "\n",
    "#     def get_parsed_transactions(self, transactions: List[str], commitment: str=None):\n",
    "#         path = \"/v0/transactions\"\n",
    "#         if commitment:\n",
    "#             url = self.base_url + path + self.api_key_query + \"?commitment=commitment\"\n",
    "#         else:\n",
    "#             url = self.base_url + path + self.api_key_query\n",
    "#         payload = {\n",
    "#             \"transactions\": transactions\n",
    "#         }\n",
    "#         return _make_post_request(url, payload)\n",
    "\n",
    "#     def get_parsed_transaction_history(\n",
    "#         self, \n",
    "#         address: str, \n",
    "#         before: str='', \n",
    "#         until: str='', \n",
    "#         commitment: str='',\n",
    "#         source: str='',\n",
    "#         type: str=''\n",
    "#         ):\n",
    "        \n",
    "#         path = f\"/v0/addresses/{address}/transactions\"\n",
    "#         params = {\n",
    "#             \"before\": before,\n",
    "#             \"until\": until,\n",
    "#             \"commitment\": commitment,\n",
    "#             \"source\": source,\n",
    "#             \"type\": type\n",
    "#         }\n",
    "\n",
    "#         url = self.base_url + path + self.api_key_query\n",
    "#         print(f'url: {url}')\n",
    "#         return _make_get_request(url, params=params)"
   ]
  },
  {
   "cell_type": "code",
   "execution_count": 8,
   "metadata": {},
   "outputs": [],
   "source": [
    "HELIUS_API_KEY = os.getenv('HELIUS_API_KEY')\n",
    "VYBE_API_KEY = os.getenv('VYBE_API_KEY')\n",
    "NANSEN_API_KEY = os.getenv('NANSEN_API_KEY')\n"
   ]
  },
  {
   "cell_type": "code",
   "execution_count": 9,
   "metadata": {},
   "outputs": [],
   "source": [
    "use_cache = True\n",
    "test_address = 'AGPZnBZUxmhAtcp8XjT4n8bCia9dEYhhm16M2sfFvmTU'"
   ]
  },
  {
   "cell_type": "markdown",
   "metadata": {},
   "source": [
    "# Flipside Data (Balances over time)"
   ]
  },
  {
   "cell_type": "markdown",
   "metadata": {},
   "source": [
    "Here is the Flipside Query; when moving to live app will use the Flipside API to retrieve this dynamically: https://flipsidecrypto.xyz/studio/queries/f72285d7-f3d4-4596-a9cd-8785187005a2"
   ]
  },
  {
   "cell_type": "code",
   "execution_count": 12,
   "metadata": {},
   "outputs": [
    {
     "data": {
      "text/plain": [
       "'C:\\\\Users\\\\Brandyn\\\\projects\\\\solana_analysis_tool\\\\notebooks'"
      ]
     },
     "execution_count": 12,
     "metadata": {},
     "output_type": "execute_result"
    }
   ],
   "source": [
    "os.getcwd()"
   ]
  },
  {
   "cell_type": "code",
   "execution_count": 13,
   "metadata": {},
   "outputs": [],
   "source": [
    "# os.chdir('..')"
   ]
  },
  {
   "cell_type": "code",
   "execution_count": 14,
   "metadata": {},
   "outputs": [
    {
     "name": "stderr",
     "output_type": "stream",
     "text": [
      "<>:7: SyntaxWarning: invalid escape sequence '\\s'\n",
      "<>:7: SyntaxWarning: invalid escape sequence '\\s'\n",
      "C:\\Users\\Brandyn\\AppData\\Local\\Temp\\ipykernel_9112\\1749373569.py:7: SyntaxWarning: invalid escape sequence '\\s'\n",
      "  balance_df = balance_df[~balance_df.apply(lambda row: row.astype(str).str.contains('\\ufeff|^\\s*$', regex=True)).any(axis=1)]\n"
     ]
    }
   ],
   "source": [
    "balance_df = pd.read_csv('../data/solana_balance_history_test.csv').dropna(how='all')\n",
    "\n",
    "# Strip BOMs or invisible characters from column names\n",
    "balance_df.columns = balance_df.columns.str.replace('\\ufeff', '', regex=False).str.strip()\n",
    "\n",
    "# Optionally: remove rows where any column has just a BOM or is empty/whitespace\n",
    "balance_df = balance_df[~balance_df.apply(lambda row: row.astype(str).str.contains('\\ufeff|^\\s*$', regex=True)).any(axis=1)]\n",
    "\n",
    "sol_mask = (\n",
    "    (balance_df['MINT'] == 'So11111111111111111111111111111111111111111') &\n",
    "    (balance_df['SYMBOL'].isna())\n",
    ")\n",
    "\n",
    "balance_df.loc[sol_mask, 'SYMBOL'] = 'SOL'\n",
    "balance_df.loc[sol_mask, 'NAME'] = 'Solana'\n",
    "\n",
    "balance_df['TX_ID'] = balance_df['TX_ID'].str.lower()"
   ]
  },
  {
   "cell_type": "code",
   "execution_count": 15,
   "metadata": {},
   "outputs": [
    {
     "data": {
      "text/html": [
       "<div>\n",
       "<style scoped>\n",
       "    .dataframe tbody tr th:only-of-type {\n",
       "        vertical-align: middle;\n",
       "    }\n",
       "\n",
       "    .dataframe tbody tr th {\n",
       "        vertical-align: top;\n",
       "    }\n",
       "\n",
       "    .dataframe thead th {\n",
       "        text-align: right;\n",
       "    }\n",
       "</style>\n",
       "<table border=\"1\" class=\"dataframe\">\n",
       "  <thead>\n",
       "    <tr style=\"text-align: right;\">\n",
       "      <th></th>\n",
       "      <th>BLOCK_TIMESTAMP</th>\n",
       "      <th>OWNER</th>\n",
       "      <th>MINT</th>\n",
       "      <th>PRE_BALANCE</th>\n",
       "      <th>BALANCE</th>\n",
       "      <th>TX_ID</th>\n",
       "      <th>SUCCEEDED</th>\n",
       "      <th>SYMBOL</th>\n",
       "      <th>NAME</th>\n",
       "    </tr>\n",
       "  </thead>\n",
       "  <tbody>\n",
       "    <tr>\n",
       "      <th>490</th>\n",
       "      <td>2024-01-27 20:02:00.000</td>\n",
       "      <td>AGPZnBZUxmhAtcp8XjT4n8bCia9dEYhhm16M2sfFvmTU</td>\n",
       "      <td>9HB4kAMLSYfGFfN142DKMyPyHyZQ8pXF8M1STbDudodY</td>\n",
       "      <td>21.284506</td>\n",
       "      <td>0.000000</td>\n",
       "      <td>ag9wy4nng7vgmgvwmbmikudfcgk9sigh9xhbgumq9lcfl8...</td>\n",
       "      <td>True</td>\n",
       "      <td>NaN</td>\n",
       "      <td>NaN</td>\n",
       "    </tr>\n",
       "    <tr>\n",
       "      <th>494</th>\n",
       "      <td>2024-01-27 20:00:42.000</td>\n",
       "      <td>AGPZnBZUxmhAtcp8XjT4n8bCia9dEYhhm16M2sfFvmTU</td>\n",
       "      <td>9HB4kAMLSYfGFfN142DKMyPyHyZQ8pXF8M1STbDudodY</td>\n",
       "      <td>0.000000</td>\n",
       "      <td>21.284506</td>\n",
       "      <td>3ktq7dyxvuoknsnhkhd4wmgcvxgq5cdxm6zpuunfjc1tgb...</td>\n",
       "      <td>True</td>\n",
       "      <td>NaN</td>\n",
       "      <td>NaN</td>\n",
       "    </tr>\n",
       "    <tr>\n",
       "      <th>503</th>\n",
       "      <td>2024-01-27 19:56:38.000</td>\n",
       "      <td>AGPZnBZUxmhAtcp8XjT4n8bCia9dEYhhm16M2sfFvmTU</td>\n",
       "      <td>9HB4kAMLSYfGFfN142DKMyPyHyZQ8pXF8M1STbDudodY</td>\n",
       "      <td>38.261386</td>\n",
       "      <td>0.000000</td>\n",
       "      <td>5xblmj697ixeazt6azmd3fxx26ckyuwhma2pmqmpyacdry...</td>\n",
       "      <td>True</td>\n",
       "      <td>NaN</td>\n",
       "      <td>NaN</td>\n",
       "    </tr>\n",
       "    <tr>\n",
       "      <th>510</th>\n",
       "      <td>2024-01-27 19:54:37.000</td>\n",
       "      <td>AGPZnBZUxmhAtcp8XjT4n8bCia9dEYhhm16M2sfFvmTU</td>\n",
       "      <td>9HB4kAMLSYfGFfN142DKMyPyHyZQ8pXF8M1STbDudodY</td>\n",
       "      <td>0.000000</td>\n",
       "      <td>38.261386</td>\n",
       "      <td>2jgmfwybccr51sgxupejvvprrhas1xyxpgtz96drrxnnmb...</td>\n",
       "      <td>True</td>\n",
       "      <td>NaN</td>\n",
       "      <td>NaN</td>\n",
       "    </tr>\n",
       "    <tr>\n",
       "      <th>519</th>\n",
       "      <td>2024-01-27 19:52:56.000</td>\n",
       "      <td>AGPZnBZUxmhAtcp8XjT4n8bCia9dEYhhm16M2sfFvmTU</td>\n",
       "      <td>9HB4kAMLSYfGFfN142DKMyPyHyZQ8pXF8M1STbDudodY</td>\n",
       "      <td>12.880316</td>\n",
       "      <td>0.000000</td>\n",
       "      <td>wmkk8qpz8xnk1kw1zaggersbbbegdm6prxwyidvbdcu4wv...</td>\n",
       "      <td>True</td>\n",
       "      <td>NaN</td>\n",
       "      <td>NaN</td>\n",
       "    </tr>\n",
       "    <tr>\n",
       "      <th>522</th>\n",
       "      <td>2024-01-27 19:51:51.000</td>\n",
       "      <td>AGPZnBZUxmhAtcp8XjT4n8bCia9dEYhhm16M2sfFvmTU</td>\n",
       "      <td>9HB4kAMLSYfGFfN142DKMyPyHyZQ8pXF8M1STbDudodY</td>\n",
       "      <td>10.000000</td>\n",
       "      <td>12.880316</td>\n",
       "      <td>t1egxx8diqh5ak4ptkny6ajru96dwe2r8yyjraqssj4cxy...</td>\n",
       "      <td>True</td>\n",
       "      <td>NaN</td>\n",
       "      <td>NaN</td>\n",
       "    </tr>\n",
       "    <tr>\n",
       "      <th>524</th>\n",
       "      <td>2024-01-27 19:47:10.000</td>\n",
       "      <td>AGPZnBZUxmhAtcp8XjT4n8bCia9dEYhhm16M2sfFvmTU</td>\n",
       "      <td>9HB4kAMLSYfGFfN142DKMyPyHyZQ8pXF8M1STbDudodY</td>\n",
       "      <td>0.000000</td>\n",
       "      <td>10.000000</td>\n",
       "      <td>deymhggrurmjvatdnhmqauszfxhzrxftxps3e5bgtes7vj...</td>\n",
       "      <td>True</td>\n",
       "      <td>NaN</td>\n",
       "      <td>NaN</td>\n",
       "    </tr>\n",
       "    <tr>\n",
       "      <th>539</th>\n",
       "      <td>2024-01-12 00:29:26.000</td>\n",
       "      <td>AGPZnBZUxmhAtcp8XjT4n8bCia9dEYhhm16M2sfFvmTU</td>\n",
       "      <td>B9uEZfxJoAsc51BZs6rNs8XtYVu5vfVrhbCuDCJ7mPEE</td>\n",
       "      <td>0.000000</td>\n",
       "      <td>5.000000</td>\n",
       "      <td>qwsnf1ioo2ucggywbzdfa1knav8vujgg7dkwgkazfyp6q6...</td>\n",
       "      <td>True</td>\n",
       "      <td>NaN</td>\n",
       "      <td>NaN</td>\n",
       "    </tr>\n",
       "    <tr>\n",
       "      <th>540</th>\n",
       "      <td>2024-01-11 23:02:04.000</td>\n",
       "      <td>AGPZnBZUxmhAtcp8XjT4n8bCia9dEYhhm16M2sfFvmTU</td>\n",
       "      <td>9HB4kAMLSYfGFfN142DKMyPyHyZQ8pXF8M1STbDudodY</td>\n",
       "      <td>5.711749</td>\n",
       "      <td>0.000000</td>\n",
       "      <td>wnz5j6dcgtjmigf8dxvbh72t4ks6bo3kvtsgmbzl7trjdn...</td>\n",
       "      <td>True</td>\n",
       "      <td>NaN</td>\n",
       "      <td>NaN</td>\n",
       "    </tr>\n",
       "    <tr>\n",
       "      <th>544</th>\n",
       "      <td>2024-01-11 22:57:58.000</td>\n",
       "      <td>AGPZnBZUxmhAtcp8XjT4n8bCia9dEYhhm16M2sfFvmTU</td>\n",
       "      <td>9HB4kAMLSYfGFfN142DKMyPyHyZQ8pXF8M1STbDudodY</td>\n",
       "      <td>0.000000</td>\n",
       "      <td>5.711749</td>\n",
       "      <td>5238f2m2jwjbsqsnb5k1l8b6mj5z9d1xs9eeakwzjkpzsf...</td>\n",
       "      <td>True</td>\n",
       "      <td>NaN</td>\n",
       "      <td>NaN</td>\n",
       "    </tr>\n",
       "    <tr>\n",
       "      <th>573</th>\n",
       "      <td>2023-12-11 00:36:23.000</td>\n",
       "      <td>AGPZnBZUxmhAtcp8XjT4n8bCia9dEYhhm16M2sfFvmTU</td>\n",
       "      <td>9HB4kAMLSYfGFfN142DKMyPyHyZQ8pXF8M1STbDudodY</td>\n",
       "      <td>9.172857</td>\n",
       "      <td>0.000000</td>\n",
       "      <td>2fp76rmfqlpstivzj9tew6xftx1cd6axvtrlcqpasr49w5...</td>\n",
       "      <td>True</td>\n",
       "      <td>NaN</td>\n",
       "      <td>NaN</td>\n",
       "    </tr>\n",
       "    <tr>\n",
       "      <th>575</th>\n",
       "      <td>2023-12-11 00:35:29.000</td>\n",
       "      <td>AGPZnBZUxmhAtcp8XjT4n8bCia9dEYhhm16M2sfFvmTU</td>\n",
       "      <td>9HB4kAMLSYfGFfN142DKMyPyHyZQ8pXF8M1STbDudodY</td>\n",
       "      <td>0.000000</td>\n",
       "      <td>9.172857</td>\n",
       "      <td>4w3wb2uefo7juh3ds3fcstqbmsubxnxysbrj5eegpqym3r...</td>\n",
       "      <td>True</td>\n",
       "      <td>NaN</td>\n",
       "      <td>NaN</td>\n",
       "    </tr>\n",
       "    <tr>\n",
       "      <th>579</th>\n",
       "      <td>2023-12-11 00:29:06.000</td>\n",
       "      <td>AGPZnBZUxmhAtcp8XjT4n8bCia9dEYhhm16M2sfFvmTU</td>\n",
       "      <td>9HB4kAMLSYfGFfN142DKMyPyHyZQ8pXF8M1STbDudodY</td>\n",
       "      <td>57.541602</td>\n",
       "      <td>0.000000</td>\n",
       "      <td>42vywqh8rbhxxwwmfhnhsemm1bx6rjsqcvtz1ri2rm27og...</td>\n",
       "      <td>True</td>\n",
       "      <td>NaN</td>\n",
       "      <td>NaN</td>\n",
       "    </tr>\n",
       "    <tr>\n",
       "      <th>582</th>\n",
       "      <td>2023-12-05 13:10:51.000</td>\n",
       "      <td>AGPZnBZUxmhAtcp8XjT4n8bCia9dEYhhm16M2sfFvmTU</td>\n",
       "      <td>9HB4kAMLSYfGFfN142DKMyPyHyZQ8pXF8M1STbDudodY</td>\n",
       "      <td>28.431709</td>\n",
       "      <td>57.541602</td>\n",
       "      <td>2ukzskwxmigegzcgk3gxn2r89kawsnd6wpxf8davrjdpub...</td>\n",
       "      <td>True</td>\n",
       "      <td>NaN</td>\n",
       "      <td>NaN</td>\n",
       "    </tr>\n",
       "    <tr>\n",
       "      <th>588</th>\n",
       "      <td>2023-11-26 00:41:25.000</td>\n",
       "      <td>AGPZnBZUxmhAtcp8XjT4n8bCia9dEYhhm16M2sfFvmTU</td>\n",
       "      <td>9HB4kAMLSYfGFfN142DKMyPyHyZQ8pXF8M1STbDudodY</td>\n",
       "      <td>0.000000</td>\n",
       "      <td>28.431709</td>\n",
       "      <td>5fkxfdes2bpftmg2lqjuwwsj6anzrjbgudkxkg9dz6sxlh...</td>\n",
       "      <td>True</td>\n",
       "      <td>NaN</td>\n",
       "      <td>NaN</td>\n",
       "    </tr>\n",
       "    <tr>\n",
       "      <th>600</th>\n",
       "      <td>2023-11-19 23:47:11.000</td>\n",
       "      <td>AGPZnBZUxmhAtcp8XjT4n8bCia9dEYhhm16M2sfFvmTU</td>\n",
       "      <td>BgN8VphMQBX4LW6F6sWE6UVuuAmSGcEHPFP6xESG2z1W</td>\n",
       "      <td>0.000000</td>\n",
       "      <td>1.000000</td>\n",
       "      <td>5vgfsuvwblbmug1uuakm39ydwpdek3unsp51iaawsjddyx...</td>\n",
       "      <td>True</td>\n",
       "      <td>NaN</td>\n",
       "      <td>NaN</td>\n",
       "    </tr>\n",
       "  </tbody>\n",
       "</table>\n",
       "</div>"
      ],
      "text/plain": [
       "             BLOCK_TIMESTAMP                                         OWNER  \\\n",
       "490  2024-01-27 20:02:00.000  AGPZnBZUxmhAtcp8XjT4n8bCia9dEYhhm16M2sfFvmTU   \n",
       "494  2024-01-27 20:00:42.000  AGPZnBZUxmhAtcp8XjT4n8bCia9dEYhhm16M2sfFvmTU   \n",
       "503  2024-01-27 19:56:38.000  AGPZnBZUxmhAtcp8XjT4n8bCia9dEYhhm16M2sfFvmTU   \n",
       "510  2024-01-27 19:54:37.000  AGPZnBZUxmhAtcp8XjT4n8bCia9dEYhhm16M2sfFvmTU   \n",
       "519  2024-01-27 19:52:56.000  AGPZnBZUxmhAtcp8XjT4n8bCia9dEYhhm16M2sfFvmTU   \n",
       "522  2024-01-27 19:51:51.000  AGPZnBZUxmhAtcp8XjT4n8bCia9dEYhhm16M2sfFvmTU   \n",
       "524  2024-01-27 19:47:10.000  AGPZnBZUxmhAtcp8XjT4n8bCia9dEYhhm16M2sfFvmTU   \n",
       "539  2024-01-12 00:29:26.000  AGPZnBZUxmhAtcp8XjT4n8bCia9dEYhhm16M2sfFvmTU   \n",
       "540  2024-01-11 23:02:04.000  AGPZnBZUxmhAtcp8XjT4n8bCia9dEYhhm16M2sfFvmTU   \n",
       "544  2024-01-11 22:57:58.000  AGPZnBZUxmhAtcp8XjT4n8bCia9dEYhhm16M2sfFvmTU   \n",
       "573  2023-12-11 00:36:23.000  AGPZnBZUxmhAtcp8XjT4n8bCia9dEYhhm16M2sfFvmTU   \n",
       "575  2023-12-11 00:35:29.000  AGPZnBZUxmhAtcp8XjT4n8bCia9dEYhhm16M2sfFvmTU   \n",
       "579  2023-12-11 00:29:06.000  AGPZnBZUxmhAtcp8XjT4n8bCia9dEYhhm16M2sfFvmTU   \n",
       "582  2023-12-05 13:10:51.000  AGPZnBZUxmhAtcp8XjT4n8bCia9dEYhhm16M2sfFvmTU   \n",
       "588  2023-11-26 00:41:25.000  AGPZnBZUxmhAtcp8XjT4n8bCia9dEYhhm16M2sfFvmTU   \n",
       "600  2023-11-19 23:47:11.000  AGPZnBZUxmhAtcp8XjT4n8bCia9dEYhhm16M2sfFvmTU   \n",
       "\n",
       "                                             MINT  PRE_BALANCE    BALANCE  \\\n",
       "490  9HB4kAMLSYfGFfN142DKMyPyHyZQ8pXF8M1STbDudodY    21.284506   0.000000   \n",
       "494  9HB4kAMLSYfGFfN142DKMyPyHyZQ8pXF8M1STbDudodY     0.000000  21.284506   \n",
       "503  9HB4kAMLSYfGFfN142DKMyPyHyZQ8pXF8M1STbDudodY    38.261386   0.000000   \n",
       "510  9HB4kAMLSYfGFfN142DKMyPyHyZQ8pXF8M1STbDudodY     0.000000  38.261386   \n",
       "519  9HB4kAMLSYfGFfN142DKMyPyHyZQ8pXF8M1STbDudodY    12.880316   0.000000   \n",
       "522  9HB4kAMLSYfGFfN142DKMyPyHyZQ8pXF8M1STbDudodY    10.000000  12.880316   \n",
       "524  9HB4kAMLSYfGFfN142DKMyPyHyZQ8pXF8M1STbDudodY     0.000000  10.000000   \n",
       "539  B9uEZfxJoAsc51BZs6rNs8XtYVu5vfVrhbCuDCJ7mPEE     0.000000   5.000000   \n",
       "540  9HB4kAMLSYfGFfN142DKMyPyHyZQ8pXF8M1STbDudodY     5.711749   0.000000   \n",
       "544  9HB4kAMLSYfGFfN142DKMyPyHyZQ8pXF8M1STbDudodY     0.000000   5.711749   \n",
       "573  9HB4kAMLSYfGFfN142DKMyPyHyZQ8pXF8M1STbDudodY     9.172857   0.000000   \n",
       "575  9HB4kAMLSYfGFfN142DKMyPyHyZQ8pXF8M1STbDudodY     0.000000   9.172857   \n",
       "579  9HB4kAMLSYfGFfN142DKMyPyHyZQ8pXF8M1STbDudodY    57.541602   0.000000   \n",
       "582  9HB4kAMLSYfGFfN142DKMyPyHyZQ8pXF8M1STbDudodY    28.431709  57.541602   \n",
       "588  9HB4kAMLSYfGFfN142DKMyPyHyZQ8pXF8M1STbDudodY     0.000000  28.431709   \n",
       "600  BgN8VphMQBX4LW6F6sWE6UVuuAmSGcEHPFP6xESG2z1W     0.000000   1.000000   \n",
       "\n",
       "                                                 TX_ID SUCCEEDED SYMBOL NAME  \n",
       "490  ag9wy4nng7vgmgvwmbmikudfcgk9sigh9xhbgumq9lcfl8...      True    NaN  NaN  \n",
       "494  3ktq7dyxvuoknsnhkhd4wmgcvxgq5cdxm6zpuunfjc1tgb...      True    NaN  NaN  \n",
       "503  5xblmj697ixeazt6azmd3fxx26ckyuwhma2pmqmpyacdry...      True    NaN  NaN  \n",
       "510  2jgmfwybccr51sgxupejvvprrhas1xyxpgtz96drrxnnmb...      True    NaN  NaN  \n",
       "519  wmkk8qpz8xnk1kw1zaggersbbbegdm6prxwyidvbdcu4wv...      True    NaN  NaN  \n",
       "522  t1egxx8diqh5ak4ptkny6ajru96dwe2r8yyjraqssj4cxy...      True    NaN  NaN  \n",
       "524  deymhggrurmjvatdnhmqauszfxhzrxftxps3e5bgtes7vj...      True    NaN  NaN  \n",
       "539  qwsnf1ioo2ucggywbzdfa1knav8vujgg7dkwgkazfyp6q6...      True    NaN  NaN  \n",
       "540  wnz5j6dcgtjmigf8dxvbh72t4ks6bo3kvtsgmbzl7trjdn...      True    NaN  NaN  \n",
       "544  5238f2m2jwjbsqsnb5k1l8b6mj5z9d1xs9eeakwzjkpzsf...      True    NaN  NaN  \n",
       "573  2fp76rmfqlpstivzj9tew6xftx1cd6axvtrlcqpasr49w5...      True    NaN  NaN  \n",
       "575  4w3wb2uefo7juh3ds3fcstqbmsubxnxysbrj5eegpqym3r...      True    NaN  NaN  \n",
       "579  42vywqh8rbhxxwwmfhnhsemm1bx6rjsqcvtz1ri2rm27og...      True    NaN  NaN  \n",
       "582  2ukzskwxmigegzcgk3gxn2r89kawsnd6wpxf8davrjdpub...      True    NaN  NaN  \n",
       "588  5fkxfdes2bpftmg2lqjuwwsj6anzrjbgudkxkg9dz6sxlh...      True    NaN  NaN  \n",
       "600  5vgfsuvwblbmug1uuakm39ydwpdek3unsp51iaawsjddyx...      True    NaN  NaN  "
      ]
     },
     "execution_count": 15,
     "metadata": {},
     "output_type": "execute_result"
    }
   ],
   "source": [
    "# Any nan values left should be LP tokens\n",
    "\n",
    "balance_df[balance_df['SYMBOL'].isna()]"
   ]
  },
  {
   "cell_type": "code",
   "execution_count": 16,
   "metadata": {},
   "outputs": [],
   "source": [
    "# os.chdir('notebooks')"
   ]
  },
  {
   "cell_type": "code",
   "execution_count": 17,
   "metadata": {},
   "outputs": [
    {
     "data": {
      "text/plain": [
       "'C:\\\\Users\\\\Brandyn\\\\projects\\\\solana_analysis_tool\\\\notebooks'"
      ]
     },
     "execution_count": 17,
     "metadata": {},
     "output_type": "execute_result"
    }
   ],
   "source": [
    "os.getcwd()"
   ]
  },
  {
   "cell_type": "markdown",
   "metadata": {},
   "source": [
    "# Helius API Calls"
   ]
  },
  {
   "cell_type": "code",
   "execution_count": 19,
   "metadata": {},
   "outputs": [],
   "source": [
    "def get_all_signatures(account_address, helius_api_key, max_pages=20, limit=100):\n",
    "    url = f\"https://mainnet.helius-rpc.com/?api-key={helius_api_key}\"\n",
    "    collected = []\n",
    "    before = None\n",
    "\n",
    "    for _ in range(max_pages):\n",
    "        payload = {\n",
    "            \"jsonrpc\": \"2.0\",\n",
    "            \"id\": \"1\",\n",
    "            \"method\": \"getSignaturesForAddress\",\n",
    "            \"params\": [account_address, {\"limit\": limit, **({\"before\": before} if before else {})}]\n",
    "        }\n",
    "\n",
    "        response = requests.post(\n",
    "            url,\n",
    "            headers={\"Content-Type\": \"application/json\"},\n",
    "            data=json.dumps(payload)\n",
    "        )\n",
    "\n",
    "        try:\n",
    "            data = response.json()\n",
    "            if \"error\" in data:\n",
    "                print(f\"❌ Error: {data['error']['message']}\")\n",
    "                break\n",
    "\n",
    "            batch = data[\"result\"]\n",
    "            if not batch:\n",
    "                break\n",
    "\n",
    "            collected.extend(batch)\n",
    "            before = batch[-1][\"signature\"]  # Move to next batch\n",
    "\n",
    "            time.sleep(0.5)  # Avoid rate-limits\n",
    "\n",
    "        except Exception as e:\n",
    "            print(f\"Exception: {e}\")\n",
    "            break\n",
    "\n",
    "    return collected"
   ]
  },
  {
   "cell_type": "code",
   "execution_count": 20,
   "metadata": {},
   "outputs": [],
   "source": [
    "# signatures = get_all_signatures(test_address, HELIUS_API_KEY)\n",
    "\n",
    "# signatures_dict = {}\n",
    "\n",
    "# for sig in signatures:\n",
    "#     time = sig.get('blockTime')\n",
    "#     signature_str = sig.get('signature')\n",
    "\n",
    "#     signatures_dict[signature_str] = time\n",
    "\n",
    "# signatures_dict"
   ]
  },
  {
   "cell_type": "code",
   "execution_count": 21,
   "metadata": {},
   "outputs": [],
   "source": [
    "# signatures_array = list(signatures_dict.keys())"
   ]
  },
  {
   "cell_type": "code",
   "execution_count": 22,
   "metadata": {},
   "outputs": [],
   "source": [
    "def v0_transactions_all(signatures, helius_api_key):\n",
    "    import time\n",
    "    url = f\"https://api.helius.xyz/v0/transactions?api-key={helius_api_key}\"\n",
    "    headers = {\"Content-Type\": \"application/json\"}\n",
    "\n",
    "    all_results = []\n",
    "    batch_size = 100\n",
    "\n",
    "    for i in range(0, len(signatures), batch_size):\n",
    "        batch = signatures[i:i+batch_size]\n",
    "        payload = json.dumps({\"transactions\": batch})\n",
    "\n",
    "        response = requests.post(url, headers=headers, data=payload)\n",
    "\n",
    "        try:\n",
    "            data = response.json()\n",
    "            if isinstance(data, dict) and \"error\" in data:\n",
    "                print(f\"❌ Error at batch {i // batch_size}: {data['error']}\")\n",
    "                continue\n",
    "\n",
    "            all_results.extend(data)\n",
    "\n",
    "        except Exception as e:\n",
    "            print(f\"❌ Exception during batch {i // batch_size}: {e}\")\n",
    "\n",
    "        time.sleep(0.3)  # Optional rate limit buffer\n",
    "\n",
    "    return all_results\n"
   ]
  },
  {
   "cell_type": "code",
   "execution_count": 23,
   "metadata": {},
   "outputs": [],
   "source": [
    "# signatures_array"
   ]
  },
  {
   "cell_type": "code",
   "execution_count": 24,
   "metadata": {},
   "outputs": [],
   "source": [
    "# data = v0_transactions_all(signatures_array, HELIUS_API_KEY)"
   ]
  },
  {
   "cell_type": "code",
   "execution_count": 25,
   "metadata": {},
   "outputs": [],
   "source": [
    "# len(data)"
   ]
  },
  {
   "cell_type": "code",
   "execution_count": 26,
   "metadata": {},
   "outputs": [
    {
     "data": {
      "text/plain": [
       "'C:\\\\Users\\\\Brandyn\\\\projects\\\\solana_analysis_tool\\\\notebooks'"
      ]
     },
     "execution_count": 26,
     "metadata": {},
     "output_type": "execute_result"
    }
   ],
   "source": [
    "os.getcwd()"
   ]
  },
  {
   "cell_type": "code",
   "execution_count": 27,
   "metadata": {},
   "outputs": [],
   "source": [
    "# os.chdir('..')"
   ]
  },
  {
   "cell_type": "code",
   "execution_count": 28,
   "metadata": {},
   "outputs": [],
   "source": [
    "def get_comprehensive_tx_history(wallet, api_key, use_cache=True):\n",
    "\n",
    "    if use_cache:\n",
    "        with open('../data/test_tx_history.json') as f:\n",
    "            parsed_transaction_history = json.load(f)\n",
    "\n",
    "        return parsed_transaction_history\n",
    "    \n",
    "    else:\n",
    "\n",
    "        signatures = get_all_signatures(wallet, api_key)\n",
    "\n",
    "        signatures_dict = {}\n",
    "\n",
    "        for sig in signatures:\n",
    "            time = sig.get('blockTime')\n",
    "            signature_str = sig.get('signature')\n",
    "\n",
    "            signatures_dict[signature_str] = time\n",
    "        \n",
    "        signatures_array = list(signatures_dict.keys())\n",
    "\n",
    "        parsed_transaction_history = v0_transactions_all(signatures_array, api_key)\n",
    "\n",
    "        with open('../data/test_tx_history.json', 'w') as f:\n",
    "            json.dump(parsed_transaction_history, f)\n",
    "\n",
    "        return parsed_transaction_history"
   ]
  },
  {
   "cell_type": "code",
   "execution_count": 29,
   "metadata": {},
   "outputs": [],
   "source": [
    "parsed_transaction_history = get_comprehensive_tx_history(test_address, HELIUS_API_KEY, use_cache=use_cache)"
   ]
  },
  {
   "cell_type": "code",
   "execution_count": 30,
   "metadata": {},
   "outputs": [
    {
     "data": {
      "text/plain": [
       "493"
      ]
     },
     "execution_count": 30,
     "metadata": {},
     "output_type": "execute_result"
    }
   ],
   "source": [
    "len(parsed_transaction_history)"
   ]
  },
  {
   "cell_type": "code",
   "execution_count": 31,
   "metadata": {},
   "outputs": [],
   "source": [
    "# os.chdir('notebooks')"
   ]
  },
  {
   "cell_type": "code",
   "execution_count": 32,
   "metadata": {},
   "outputs": [
    {
     "data": {
      "text/plain": [
       "'C:\\\\Users\\\\Brandyn\\\\projects\\\\solana_analysis_tool\\\\notebooks'"
      ]
     },
     "execution_count": 32,
     "metadata": {},
     "output_type": "execute_result"
    }
   ],
   "source": [
    "os.getcwd()"
   ]
  },
  {
   "cell_type": "code",
   "execution_count": 33,
   "metadata": {},
   "outputs": [],
   "source": [
    "# from helius import TransactionsAPI\n",
    "# transactions_api  = TransactionsAPI(HELIUS_API_KEY)"
   ]
  },
  {
   "cell_type": "code",
   "execution_count": 34,
   "metadata": {},
   "outputs": [],
   "source": [
    "# os.getcwd()"
   ]
  },
  {
   "cell_type": "code",
   "execution_count": 35,
   "metadata": {},
   "outputs": [],
   "source": [
    "# os.chdir('..')"
   ]
  },
  {
   "cell_type": "code",
   "execution_count": 36,
   "metadata": {},
   "outputs": [],
   "source": [
    "# if not use_cache:\n",
    "#     parsed_transaction_history = transactions_api.get_parsed_transaction_history(address=test_address)\n",
    "\n",
    "#     with open('data/test_tx_history.json', 'w') as f:\n",
    "#         json.dump(parsed_transaction_history, f)\n",
    "# else:\n",
    "#     with open('data/test_tx_history.json') as f:\n",
    "#         parsed_transaction_history = json.load(f)"
   ]
  },
  {
   "cell_type": "code",
   "execution_count": 37,
   "metadata": {},
   "outputs": [],
   "source": [
    "# os.chdir('notebooks')"
   ]
  },
  {
   "cell_type": "code",
   "execution_count": 38,
   "metadata": {},
   "outputs": [],
   "source": [
    "# os.getcwd()"
   ]
  },
  {
   "cell_type": "code",
   "execution_count": 39,
   "metadata": {},
   "outputs": [
    {
     "name": "stderr",
     "output_type": "stream",
     "text": [
      "IOPub data rate exceeded.\n",
      "The Jupyter server will temporarily stop sending output\n",
      "to the client in order to avoid crashing it.\n",
      "To change this limit, set the config variable\n",
      "`--ServerApp.iopub_data_rate_limit`.\n",
      "\n",
      "Current values:\n",
      "ServerApp.iopub_data_rate_limit=1000000.0 (bytes/sec)\n",
      "ServerApp.rate_limit_window=3.0 (secs)\n",
      "\n"
     ]
    }
   ],
   "source": [
    "# print(json.dumps(parsed_transaction_history, indent=2))"
   ]
  },
  {
   "cell_type": "code",
   "execution_count": 40,
   "metadata": {},
   "outputs": [
    {
     "data": {
      "text/plain": [
       "493"
      ]
     },
     "execution_count": 40,
     "metadata": {},
     "output_type": "execute_result"
    }
   ],
   "source": [
    "len(parsed_transaction_history) # each tx is an array"
   ]
  },
  {
   "cell_type": "code",
   "execution_count": 41,
   "metadata": {},
   "outputs": [
    {
     "data": {
      "text/plain": [
       "dict_keys(['description', 'type', 'source', 'fee', 'feePayer', 'signature', 'slot', 'timestamp', 'tokenTransfers', 'nativeTransfers', 'accountData', 'transactionError', 'instructions', 'events'])"
      ]
     },
     "execution_count": 41,
     "metadata": {},
     "output_type": "execute_result"
    }
   ],
   "source": [
    "parsed_transaction_history[0].keys()"
   ]
  },
  {
   "cell_type": "code",
   "execution_count": 42,
   "metadata": {},
   "outputs": [],
   "source": [
    "# TX Id from Flipside dataset matches signatures in Helius dataset \n",
    "\n",
    "# signatures = []\n",
    "\n",
    "# for ar in parsed_transaction_history:\n",
    "#     signature = ar['signature'].lower()\n",
    "#     if signature in balance_df['TX_ID'].unique():\n",
    "#         print(f'ar: {ar}')\n"
   ]
  },
  {
   "cell_type": "code",
   "execution_count": 43,
   "metadata": {},
   "outputs": [
    {
     "data": {
      "text/plain": [
       "Timestamp('2025-04-06 12:12:19')"
      ]
     },
     "execution_count": 43,
     "metadata": {},
     "output_type": "execute_result"
    }
   ],
   "source": [
    "#block_time (UTC)\n",
    "\n",
    "pd.to_datetime(parsed_transaction_history[0].get('timestamp'), unit='s')"
   ]
  },
  {
   "cell_type": "code",
   "execution_count": 44,
   "metadata": {},
   "outputs": [],
   "source": [
    "# Account data\n",
    "\n",
    "# account_data = {}\n",
    "\n",
    "# for i in parsed_transaction_history[0].get('accountData'):\n",
    "#     accounts = i['account']\n",
    "#     if accounts and test_address in accounts:\n",
    "#         nativeBalanceChange = i['nativeBalanceChange']\n",
    "#         tokenBalanceChanges = i['tokenBalanceChanges']\n",
    "\n",
    "#         account_data['nativeBalanceChange'] = nativeBalanceChange / LAMPORT_SCALE\n",
    "#         account_data['tokenBalanceChanges'] = tokenBalanceChanges\n",
    "\n",
    "# account_data"
   ]
  },
  {
   "cell_type": "code",
   "execution_count": 45,
   "metadata": {},
   "outputs": [],
   "source": [
    "#Instruction data helper function\n",
    "\n",
    "def get_instruction_data(tx, wallet):\n",
    "    instructions_data = {}\n",
    "\n",
    "    for i in tx.get('instructions'):\n",
    "        accounts = i['accounts']\n",
    "        if accounts and wallet in accounts:\n",
    "            data = i['data']\n",
    "            program_id = i['programId']\n",
    "            instructions_data['data'] = data\n",
    "            instructions_data['programId'] = program_id\n",
    "\n",
    "    return instructions_data"
   ]
  },
  {
   "cell_type": "code",
   "execution_count": 46,
   "metadata": {},
   "outputs": [],
   "source": [
    "# def summarize_token_transfer(tx, wallet):\n",
    "#     net_token_flows = defaultdict(float)\n",
    "#     counterparties = set()\n",
    "\n",
    "#     for t in tx.get(\"tokenTransfers\", []):\n",
    "#         mint = t[\"mint\"]\n",
    "#         raw_amount = t[\"rawTokenAmount\"][\"tokenAmount\"]\n",
    "#         decimals = t[\"rawTokenAmount\"][\"decimals\"]\n",
    "#         amount = int(raw_amount) / (10 ** decimals) if raw_amount.isdigit() else 0\n",
    "\n",
    "#         from_user = t[\"fromUserAccount\"]\n",
    "#         to_user = t[\"toUserAccount\"]\n",
    "\n",
    "#         if from_user == wallet:\n",
    "#             net_token_flows[mint] -= amount\n",
    "#             counterparties.add(to_user)\n",
    "#         elif to_user == wallet:\n",
    "#             net_token_flows[mint] += amount\n",
    "#             counterparties.add(from_user)\n",
    "\n",
    "#     return {\n",
    "#         \"timestamp\": tx[\"timestamp\"],\n",
    "#         \"signature\": tx[\"signature\"],\n",
    "#         \"net_token_flows\": dict(net_token_flows),\n",
    "#         \"counterparties\": list(counterparties),\n",
    "#         \"type\": tx.get(\"type\", \"UNKNOWN\"),\n",
    "#         \"source\": tx.get(\"source\", \"UNKNOWN\")\n",
    "#     }\n"
   ]
  },
  {
   "cell_type": "code",
   "execution_count": 47,
   "metadata": {},
   "outputs": [],
   "source": [
    "# def summarize_native_transfer(tx, wallet):\n",
    "#     net_token_flows = defaultdict(float)\n",
    "#     counterparties = set()\n",
    "\n",
    "#     for t in tx.get(\"nativeTransfers\", []):\n",
    "#         amount = t.get(\"amount\", 0) / LAMPORT_SCALE\n",
    "#         from_user = t.get(\"fromUserAccount\")\n",
    "#         to_user = t.get(\"toUserAccount\")\n",
    "\n",
    "#         if from_user == wallet:\n",
    "#             net_token_flows[\"SOL\"] -= amount\n",
    "#             counterparties.add(to_user)\n",
    "#         elif to_user == wallet:\n",
    "#             net_token_flows[\"SOL\"] += amount\n",
    "#             counterparties.add(from_user)\n",
    "\n",
    "#     return {\n",
    "#         \"timestamp\": tx[\"timestamp\"],\n",
    "#         \"signature\": tx[\"signature\"],\n",
    "#         \"net_token_flows\": dict(net_token_flows),\n",
    "#         \"counterparties\": list(counterparties),\n",
    "#         \"type\": tx.get(\"type\", \"UNKNOWN\"),\n",
    "#         \"source\": tx.get(\"source\", \"UNKNOWN\")\n",
    "#     }\n"
   ]
  },
  {
   "cell_type": "code",
   "execution_count": 48,
   "metadata": {},
   "outputs": [],
   "source": [
    "# native_tx_dict = summarize_native_transfer(parsed_transaction_history[0], test_address)\n",
    "# native_tx_dict"
   ]
  },
  {
   "cell_type": "code",
   "execution_count": 49,
   "metadata": {},
   "outputs": [],
   "source": [
    "# token_tx_dict = summarize_token_transfer(parsed_transaction_history[0], test_address)\n",
    "# token_tx_dict"
   ]
  },
  {
   "cell_type": "code",
   "execution_count": 50,
   "metadata": {},
   "outputs": [],
   "source": [
    "def summarize_transaction(tx, wallet):\n",
    "    from collections import defaultdict\n",
    "    net_token_flows = defaultdict(float)\n",
    "    counterparties = set()\n",
    "    direction = None\n",
    "\n",
    "    # Native transfers\n",
    "    for t in tx.get(\"nativeTransfers\", []):\n",
    "        amount = t.get(\"amount\", 0) / LAMPORT_SCALE\n",
    "        from_user = t.get(\"fromUserAccount\")\n",
    "        to_user = t.get(\"toUserAccount\")\n",
    "\n",
    "        if from_user == wallet:\n",
    "            net_token_flows[\"SOL\"] -= amount\n",
    "            counterparties.add(to_user)\n",
    "            direction = \"sent\"\n",
    "        elif to_user == wallet:\n",
    "            net_token_flows[\"SOL\"] += amount\n",
    "            counterparties.add(from_user)\n",
    "            direction = \"received\"\n",
    "\n",
    "    # Token transfers (safely using .get())\n",
    "    for t in tx.get(\"tokenTransfers\", []):\n",
    "        mint = t.get(\"mint\", \"UNKNOWN\")\n",
    "        raw_token_info = t.get(\"rawTokenAmount\", {})\n",
    "        raw_amount = raw_token_info.get(\"tokenAmount\", \"0\")\n",
    "        decimals = raw_token_info.get(\"decimals\", 0)\n",
    "\n",
    "        try:\n",
    "            amount = int(raw_amount) / (10 ** decimals) if raw_amount.isdigit() else 0\n",
    "        except (ValueError, ZeroDivisionError):\n",
    "            amount = 0\n",
    "\n",
    "        from_user = t.get(\"fromUserAccount\")\n",
    "        to_user = t.get(\"toUserAccount\")\n",
    "\n",
    "        if from_user == wallet:\n",
    "            net_token_flows[mint] -= amount\n",
    "            counterparties.add(to_user)\n",
    "            direction = \"sent\"\n",
    "        elif to_user == wallet:\n",
    "            net_token_flows[mint] += amount\n",
    "            counterparties.add(from_user)\n",
    "            direction = \"received\"\n",
    "\n",
    "    return {\n",
    "        \"timestamp\": tx.get(\"timestamp\"),\n",
    "        \"signature\": tx.get(\"signature\"),\n",
    "        \"net_token_flows\": dict(net_token_flows),\n",
    "        \"counterparties\": list(counterparties),\n",
    "        \"type\": tx.get(\"type\", \"UNKNOWN\"),\n",
    "        \"source\": tx.get(\"source\", \"UNKNOWN\"),\n",
    "        \"tx_status\": int(tx.get(\"transactionError\") is None),\n",
    "        \"direction\": direction,\n",
    "        \"counterparty\": list(counterparties)[0] if len(counterparties) == 1 else None\n",
    "    }\n"
   ]
  },
  {
   "cell_type": "markdown",
   "metadata": {},
   "source": [
    "## Transaction-Level Dataset"
   ]
  },
  {
   "cell_type": "code",
   "execution_count": 52,
   "metadata": {},
   "outputs": [],
   "source": [
    "#Helper function to create row from helius and flipside data\n",
    "\n",
    "def create_row(tx, wallet, balance_df):\n",
    "    \"\"\"\n",
    "    Takes in a tx from helius data, a wallet address, and balance timeseries data from Flipside.  Returns a df row for analysis \n",
    "    \"\"\"\n",
    "    tx_summary = summarize_transaction(tx, wallet)\n",
    "    instructions_data = get_instruction_data(tx, wallet)\n",
    "\n",
    "    token_tx_df = pd.DataFrame([tx_summary])\n",
    "    tx_status = \"failed\" if tx.get(\"transactionError\") else \"success\"\n",
    "\n",
    "    token_tx_df['slot'] = tx.get('slot')\n",
    "    token_tx_df['tx_fee'] = tx.get('fee') / LAMPORT_SCALE\n",
    "    token_tx_df['program_id'] = instructions_data.get('programId')\n",
    "    token_tx_df['tx_status'] = tx_status #if no tx error, can assume it succeeded so we use binary 1 and 0 instead of just leaving nan\n",
    "    token_tx_df['signature'] = token_tx_df['signature'].str.lower()\n",
    "\n",
    "    filtered_balance_timeseries = balance_df[['PRE_BALANCE','BALANCE','SYMBOL','NAME','MINT','TX_ID']]\n",
    "    filtered_balance_timeseries = filtered_balance_timeseries.rename(columns={'TX_ID':'signature'})\n",
    "\n",
    "    combined_df = pd.merge(token_tx_df,filtered_balance_timeseries,on='signature', how='left')\n",
    "    return combined_df \n",
    "\n"
   ]
  },
  {
   "cell_type": "code",
   "execution_count": 53,
   "metadata": {},
   "outputs": [
    {
     "data": {
      "text/html": [
       "<div>\n",
       "<style scoped>\n",
       "    .dataframe tbody tr th:only-of-type {\n",
       "        vertical-align: middle;\n",
       "    }\n",
       "\n",
       "    .dataframe tbody tr th {\n",
       "        vertical-align: top;\n",
       "    }\n",
       "\n",
       "    .dataframe thead th {\n",
       "        text-align: right;\n",
       "    }\n",
       "</style>\n",
       "<table border=\"1\" class=\"dataframe\">\n",
       "  <thead>\n",
       "    <tr style=\"text-align: right;\">\n",
       "      <th></th>\n",
       "      <th>timestamp</th>\n",
       "      <th>signature</th>\n",
       "      <th>net_token_flows</th>\n",
       "      <th>counterparties</th>\n",
       "      <th>type</th>\n",
       "      <th>source</th>\n",
       "      <th>tx_status</th>\n",
       "      <th>direction</th>\n",
       "      <th>counterparty</th>\n",
       "      <th>slot</th>\n",
       "      <th>tx_fee</th>\n",
       "      <th>program_id</th>\n",
       "      <th>PRE_BALANCE</th>\n",
       "      <th>BALANCE</th>\n",
       "      <th>SYMBOL</th>\n",
       "      <th>NAME</th>\n",
       "      <th>MINT</th>\n",
       "    </tr>\n",
       "  </thead>\n",
       "  <tbody>\n",
       "    <tr>\n",
       "      <th>0</th>\n",
       "      <td>1743941539</td>\n",
       "      <td>6mpqrks4akyjez3jljjubhswnb96oijdfx1dgeznzebhxm...</td>\n",
       "      <td>{'SOL': 1e-09}</td>\n",
       "      <td>[5Hr7wZg7oBpVhH5nngRqzr5W7ZFUfCsfEhbziZJak7fr]</td>\n",
       "      <td>TRANSFER</td>\n",
       "      <td>SYSTEM_PROGRAM</td>\n",
       "      <td>success</td>\n",
       "      <td>received</td>\n",
       "      <td>5Hr7wZg7oBpVhH5nngRqzr5W7ZFUfCsfEhbziZJak7fr</td>\n",
       "      <td>331670303</td>\n",
       "      <td>0.000006</td>\n",
       "      <td>11111111111111111111111111111111</td>\n",
       "      <td>0.017773</td>\n",
       "      <td>0.017773</td>\n",
       "      <td>SOL</td>\n",
       "      <td>Solana</td>\n",
       "      <td>So11111111111111111111111111111111111111111</td>\n",
       "    </tr>\n",
       "    <tr>\n",
       "      <th>0</th>\n",
       "      <td>1743898250</td>\n",
       "      <td>29ap1yrcx2dbjm4mxk8257g5e87by7cgxysds6liaamsxx...</td>\n",
       "      <td>{'SOL': 1e-09}</td>\n",
       "      <td>[FLiPgGTXtBtEJoytikaywvWgbz5a56DdHKZU72HSYMFF]</td>\n",
       "      <td>TRANSFER</td>\n",
       "      <td>SYSTEM_PROGRAM</td>\n",
       "      <td>success</td>\n",
       "      <td>received</td>\n",
       "      <td>FLiPgGTXtBtEJoytikaywvWgbz5a56DdHKZU72HSYMFF</td>\n",
       "      <td>331561835</td>\n",
       "      <td>0.000005</td>\n",
       "      <td>11111111111111111111111111111111</td>\n",
       "      <td>0.017773</td>\n",
       "      <td>0.017773</td>\n",
       "      <td>SOL</td>\n",
       "      <td>Solana</td>\n",
       "      <td>So11111111111111111111111111111111111111111</td>\n",
       "    </tr>\n",
       "  </tbody>\n",
       "</table>\n",
       "</div>"
      ],
      "text/plain": [
       "    timestamp                                          signature  \\\n",
       "0  1743941539  6mpqrks4akyjez3jljjubhswnb96oijdfx1dgeznzebhxm...   \n",
       "0  1743898250  29ap1yrcx2dbjm4mxk8257g5e87by7cgxysds6liaamsxx...   \n",
       "\n",
       "  net_token_flows                                  counterparties      type  \\\n",
       "0  {'SOL': 1e-09}  [5Hr7wZg7oBpVhH5nngRqzr5W7ZFUfCsfEhbziZJak7fr]  TRANSFER   \n",
       "0  {'SOL': 1e-09}  [FLiPgGTXtBtEJoytikaywvWgbz5a56DdHKZU72HSYMFF]  TRANSFER   \n",
       "\n",
       "           source tx_status direction  \\\n",
       "0  SYSTEM_PROGRAM   success  received   \n",
       "0  SYSTEM_PROGRAM   success  received   \n",
       "\n",
       "                                   counterparty       slot    tx_fee  \\\n",
       "0  5Hr7wZg7oBpVhH5nngRqzr5W7ZFUfCsfEhbziZJak7fr  331670303  0.000006   \n",
       "0  FLiPgGTXtBtEJoytikaywvWgbz5a56DdHKZU72HSYMFF  331561835  0.000005   \n",
       "\n",
       "                         program_id  PRE_BALANCE   BALANCE SYMBOL    NAME  \\\n",
       "0  11111111111111111111111111111111     0.017773  0.017773    SOL  Solana   \n",
       "0  11111111111111111111111111111111     0.017773  0.017773    SOL  Solana   \n",
       "\n",
       "                                          MINT  \n",
       "0  So11111111111111111111111111111111111111111  \n",
       "0  So11111111111111111111111111111111111111111  "
      ]
     },
     "execution_count": 53,
     "metadata": {},
     "output_type": "execute_result"
    }
   ],
   "source": [
    "#Testing the workflow to concat the dataset\n",
    "\n",
    "combined_row = create_row(parsed_transaction_history[0], test_address, balance_df)\n",
    "combined_row2 = create_row(parsed_transaction_history[1], test_address, balance_df)\n",
    "pd.concat([combined_row,combined_row2]).drop_duplicates(subset='signature')"
   ]
  },
  {
   "cell_type": "code",
   "execution_count": 54,
   "metadata": {},
   "outputs": [
    {
     "data": {
      "text/html": [
       "<div>\n",
       "<style scoped>\n",
       "    .dataframe tbody tr th:only-of-type {\n",
       "        vertical-align: middle;\n",
       "    }\n",
       "\n",
       "    .dataframe tbody tr th {\n",
       "        vertical-align: top;\n",
       "    }\n",
       "\n",
       "    .dataframe thead th {\n",
       "        text-align: right;\n",
       "    }\n",
       "</style>\n",
       "<table border=\"1\" class=\"dataframe\">\n",
       "  <thead>\n",
       "    <tr style=\"text-align: right;\">\n",
       "      <th></th>\n",
       "      <th>timestamp</th>\n",
       "      <th>signature</th>\n",
       "      <th>net_token_flows</th>\n",
       "      <th>counterparties</th>\n",
       "      <th>type</th>\n",
       "      <th>source</th>\n",
       "      <th>tx_status</th>\n",
       "      <th>direction</th>\n",
       "      <th>counterparty</th>\n",
       "      <th>slot</th>\n",
       "      <th>tx_fee</th>\n",
       "      <th>program_id</th>\n",
       "      <th>PRE_BALANCE</th>\n",
       "      <th>BALANCE</th>\n",
       "      <th>SYMBOL</th>\n",
       "      <th>NAME</th>\n",
       "      <th>MINT</th>\n",
       "    </tr>\n",
       "  </thead>\n",
       "  <tbody>\n",
       "    <tr>\n",
       "      <th>0</th>\n",
       "      <td>1743941539</td>\n",
       "      <td>6mpqrks4akyjez3jljjubhswnb96oijdfx1dgeznzebhxm...</td>\n",
       "      <td>{'SOL': 1e-09}</td>\n",
       "      <td>[5Hr7wZg7oBpVhH5nngRqzr5W7ZFUfCsfEhbziZJak7fr]</td>\n",
       "      <td>TRANSFER</td>\n",
       "      <td>SYSTEM_PROGRAM</td>\n",
       "      <td>success</td>\n",
       "      <td>received</td>\n",
       "      <td>5Hr7wZg7oBpVhH5nngRqzr5W7ZFUfCsfEhbziZJak7fr</td>\n",
       "      <td>331670303</td>\n",
       "      <td>0.000006</td>\n",
       "      <td>11111111111111111111111111111111</td>\n",
       "      <td>0.017773</td>\n",
       "      <td>0.017773</td>\n",
       "      <td>SOL</td>\n",
       "      <td>Solana</td>\n",
       "      <td>So11111111111111111111111111111111111111111</td>\n",
       "    </tr>\n",
       "    <tr>\n",
       "      <th>0</th>\n",
       "      <td>1743898250</td>\n",
       "      <td>29ap1yrcx2dbjm4mxk8257g5e87by7cgxysds6liaamsxx...</td>\n",
       "      <td>{'SOL': 1e-09}</td>\n",
       "      <td>[FLiPgGTXtBtEJoytikaywvWgbz5a56DdHKZU72HSYMFF]</td>\n",
       "      <td>TRANSFER</td>\n",
       "      <td>SYSTEM_PROGRAM</td>\n",
       "      <td>success</td>\n",
       "      <td>received</td>\n",
       "      <td>FLiPgGTXtBtEJoytikaywvWgbz5a56DdHKZU72HSYMFF</td>\n",
       "      <td>331561835</td>\n",
       "      <td>0.000005</td>\n",
       "      <td>11111111111111111111111111111111</td>\n",
       "      <td>0.017773</td>\n",
       "      <td>0.017773</td>\n",
       "      <td>SOL</td>\n",
       "      <td>Solana</td>\n",
       "      <td>So11111111111111111111111111111111111111111</td>\n",
       "    </tr>\n",
       "    <tr>\n",
       "      <th>0</th>\n",
       "      <td>1743898245</td>\n",
       "      <td>2d7d4ndxhzfwz6trn6pzy7pqefkrktqhqjq1zpz5myndvs...</td>\n",
       "      <td>{'SOL': 1e-09}</td>\n",
       "      <td>[FLiPGqowc82LLR173hKiFYBq2fCxLZEST5iHbHwj8xKb]</td>\n",
       "      <td>TRANSFER</td>\n",
       "      <td>SYSTEM_PROGRAM</td>\n",
       "      <td>success</td>\n",
       "      <td>received</td>\n",
       "      <td>FLiPGqowc82LLR173hKiFYBq2fCxLZEST5iHbHwj8xKb</td>\n",
       "      <td>331561822</td>\n",
       "      <td>0.000005</td>\n",
       "      <td>11111111111111111111111111111111</td>\n",
       "      <td>0.017773</td>\n",
       "      <td>0.017773</td>\n",
       "      <td>SOL</td>\n",
       "      <td>Solana</td>\n",
       "      <td>So11111111111111111111111111111111111111111</td>\n",
       "    </tr>\n",
       "    <tr>\n",
       "      <th>0</th>\n",
       "      <td>1743896323</td>\n",
       "      <td>nprzwng7slnepcpebwjemkadd6wnuwscrgeweqsnshiznn...</td>\n",
       "      <td>{'SOL': 1e-05}</td>\n",
       "      <td>[6UgXZZBoydXRNX6SLjwFDUUgn19GhjBpvNAXU3iepzUV]</td>\n",
       "      <td>TRANSFER</td>\n",
       "      <td>SYSTEM_PROGRAM</td>\n",
       "      <td>success</td>\n",
       "      <td>received</td>\n",
       "      <td>6UgXZZBoydXRNX6SLjwFDUUgn19GhjBpvNAXU3iepzUV</td>\n",
       "      <td>331557009</td>\n",
       "      <td>0.000005</td>\n",
       "      <td>11111111111111111111111111111111</td>\n",
       "      <td>0.017763</td>\n",
       "      <td>0.017773</td>\n",
       "      <td>SOL</td>\n",
       "      <td>Solana</td>\n",
       "      <td>So11111111111111111111111111111111111111111</td>\n",
       "    </tr>\n",
       "    <tr>\n",
       "      <th>0</th>\n",
       "      <td>1743896305</td>\n",
       "      <td>yqsamwung3pc9h5ezjmtr1mudcuuajzye13bmfas2atlvc...</td>\n",
       "      <td>{'SOL': 2e-09}</td>\n",
       "      <td>[GUq7PhyAUZko2mPhv3CupmdJKQ61LH8VyrdsRL25q7zg]</td>\n",
       "      <td>TRANSFER</td>\n",
       "      <td>SYSTEM_PROGRAM</td>\n",
       "      <td>success</td>\n",
       "      <td>received</td>\n",
       "      <td>GUq7PhyAUZko2mPhv3CupmdJKQ61LH8VyrdsRL25q7zg</td>\n",
       "      <td>331556964</td>\n",
       "      <td>0.000005</td>\n",
       "      <td>11111111111111111111111111111111</td>\n",
       "      <td>0.017763</td>\n",
       "      <td>0.017763</td>\n",
       "      <td>SOL</td>\n",
       "      <td>Solana</td>\n",
       "      <td>So11111111111111111111111111111111111111111</td>\n",
       "    </tr>\n",
       "    <tr>\n",
       "      <th>...</th>\n",
       "      <td>...</td>\n",
       "      <td>...</td>\n",
       "      <td>...</td>\n",
       "      <td>...</td>\n",
       "      <td>...</td>\n",
       "      <td>...</td>\n",
       "      <td>...</td>\n",
       "      <td>...</td>\n",
       "      <td>...</td>\n",
       "      <td>...</td>\n",
       "      <td>...</td>\n",
       "      <td>...</td>\n",
       "      <td>...</td>\n",
       "      <td>...</td>\n",
       "      <td>...</td>\n",
       "      <td>...</td>\n",
       "      <td>...</td>\n",
       "    </tr>\n",
       "    <tr>\n",
       "      <th>0</th>\n",
       "      <td>1699976664</td>\n",
       "      <td>2slwlw7rkrw4xsghxjaxmqidy2yaabjstn6u1h7hekud4d...</td>\n",
       "      <td>{'SOL': 0.0}</td>\n",
       "      <td>[FLiPggWYQyKVTULFWMQjAk26JfK5XRCajfyTmD5weaZ7]</td>\n",
       "      <td>TRANSFER</td>\n",
       "      <td>SYSTEM_PROGRAM</td>\n",
       "      <td>success</td>\n",
       "      <td>received</td>\n",
       "      <td>FLiPggWYQyKVTULFWMQjAk26JfK5XRCajfyTmD5weaZ7</td>\n",
       "      <td>229991035</td>\n",
       "      <td>0.000005</td>\n",
       "      <td>11111111111111111111111111111111</td>\n",
       "      <td>NaN</td>\n",
       "      <td>NaN</td>\n",
       "      <td>NaN</td>\n",
       "      <td>NaN</td>\n",
       "      <td>NaN</td>\n",
       "    </tr>\n",
       "    <tr>\n",
       "      <th>0</th>\n",
       "      <td>1699976634</td>\n",
       "      <td>3mwzl67964c2emlndhj37zqyjq6g2vfjqv1asfyhvednzi...</td>\n",
       "      <td>{'SOL': 0.0}</td>\n",
       "      <td>[FLiPggWYQyKVTULFWMQjAk26JfK5XRCajfyTmD5weaZ7]</td>\n",
       "      <td>TRANSFER</td>\n",
       "      <td>SYSTEM_PROGRAM</td>\n",
       "      <td>success</td>\n",
       "      <td>received</td>\n",
       "      <td>FLiPggWYQyKVTULFWMQjAk26JfK5XRCajfyTmD5weaZ7</td>\n",
       "      <td>229990970</td>\n",
       "      <td>0.000005</td>\n",
       "      <td>11111111111111111111111111111111</td>\n",
       "      <td>NaN</td>\n",
       "      <td>NaN</td>\n",
       "      <td>NaN</td>\n",
       "      <td>NaN</td>\n",
       "      <td>NaN</td>\n",
       "    </tr>\n",
       "    <tr>\n",
       "      <th>0</th>\n",
       "      <td>1699976603</td>\n",
       "      <td>2iqht33xr4mhcrkvrttzkqgcw16m8usvvv2xhxm2zgcgch...</td>\n",
       "      <td>{'SOL': -0.236967847, 'So111111111111111111111...</td>\n",
       "      <td>[EGXmJMeeXRAuTLsgk53LYXzGBawpY2Xiqq8FhMQpZauX,...</td>\n",
       "      <td>SWAP</td>\n",
       "      <td>JUPITER</td>\n",
       "      <td>success</td>\n",
       "      <td>received</td>\n",
       "      <td>None</td>\n",
       "      <td>229990897</td>\n",
       "      <td>0.000005</td>\n",
       "      <td>TokenkegQfeZyiNwAJbNbGKPFXCWuBvf9Ss623VQ5DA</td>\n",
       "      <td>0.469857</td>\n",
       "      <td>0.232884</td>\n",
       "      <td>SOL</td>\n",
       "      <td>Solana</td>\n",
       "      <td>So11111111111111111111111111111111111111111</td>\n",
       "    </tr>\n",
       "    <tr>\n",
       "      <th>0</th>\n",
       "      <td>1699975534</td>\n",
       "      <td>yvctdnezqofcvzv66mkasuuwk3cdz63wshxtshtuafxn52...</td>\n",
       "      <td>{'SOL': -0.23697041700000002, 'So1111111111111...</td>\n",
       "      <td>[EGXmJMeeXRAuTLsgk53LYXzGBawpY2Xiqq8FhMQpZauX,...</td>\n",
       "      <td>TOKEN_MINT</td>\n",
       "      <td>UNKNOWN</td>\n",
       "      <td>failed</td>\n",
       "      <td>sent</td>\n",
       "      <td>None</td>\n",
       "      <td>229988531</td>\n",
       "      <td>0.000005</td>\n",
       "      <td>TokenkegQfeZyiNwAJbNbGKPFXCWuBvf9Ss623VQ5DA</td>\n",
       "      <td>0.469862</td>\n",
       "      <td>0.469857</td>\n",
       "      <td>SOL</td>\n",
       "      <td>Solana</td>\n",
       "      <td>So11111111111111111111111111111111111111111</td>\n",
       "    </tr>\n",
       "    <tr>\n",
       "      <th>0</th>\n",
       "      <td>1699975207</td>\n",
       "      <td>4xglxdoifgcbhdwbxnxn5fafqn3ojs39shxskjpnpajqjq...</td>\n",
       "      <td>{'SOL': 0.469862274}</td>\n",
       "      <td>[H8sMJSCQxfKiFTCfDR3DUMLPwcRbM61LGFJ8N4dK3WjS]</td>\n",
       "      <td>TRANSFER</td>\n",
       "      <td>COINBASE</td>\n",
       "      <td>success</td>\n",
       "      <td>received</td>\n",
       "      <td>H8sMJSCQxfKiFTCfDR3DUMLPwcRbM61LGFJ8N4dK3WjS</td>\n",
       "      <td>229987783</td>\n",
       "      <td>0.000007</td>\n",
       "      <td>11111111111111111111111111111111</td>\n",
       "      <td>0.000000</td>\n",
       "      <td>0.469862</td>\n",
       "      <td>SOL</td>\n",
       "      <td>Solana</td>\n",
       "      <td>So11111111111111111111111111111111111111111</td>\n",
       "    </tr>\n",
       "  </tbody>\n",
       "</table>\n",
       "<p>493 rows × 17 columns</p>\n",
       "</div>"
      ],
      "text/plain": [
       "     timestamp                                          signature  \\\n",
       "0   1743941539  6mpqrks4akyjez3jljjubhswnb96oijdfx1dgeznzebhxm...   \n",
       "0   1743898250  29ap1yrcx2dbjm4mxk8257g5e87by7cgxysds6liaamsxx...   \n",
       "0   1743898245  2d7d4ndxhzfwz6trn6pzy7pqefkrktqhqjq1zpz5myndvs...   \n",
       "0   1743896323  nprzwng7slnepcpebwjemkadd6wnuwscrgeweqsnshiznn...   \n",
       "0   1743896305  yqsamwung3pc9h5ezjmtr1mudcuuajzye13bmfas2atlvc...   \n",
       "..         ...                                                ...   \n",
       "0   1699976664  2slwlw7rkrw4xsghxjaxmqidy2yaabjstn6u1h7hekud4d...   \n",
       "0   1699976634  3mwzl67964c2emlndhj37zqyjq6g2vfjqv1asfyhvednzi...   \n",
       "0   1699976603  2iqht33xr4mhcrkvrttzkqgcw16m8usvvv2xhxm2zgcgch...   \n",
       "0   1699975534  yvctdnezqofcvzv66mkasuuwk3cdz63wshxtshtuafxn52...   \n",
       "0   1699975207  4xglxdoifgcbhdwbxnxn5fafqn3ojs39shxskjpnpajqjq...   \n",
       "\n",
       "                                      net_token_flows  \\\n",
       "0                                      {'SOL': 1e-09}   \n",
       "0                                      {'SOL': 1e-09}   \n",
       "0                                      {'SOL': 1e-09}   \n",
       "0                                      {'SOL': 1e-05}   \n",
       "0                                      {'SOL': 2e-09}   \n",
       "..                                                ...   \n",
       "0                                        {'SOL': 0.0}   \n",
       "0                                        {'SOL': 0.0}   \n",
       "0   {'SOL': -0.236967847, 'So111111111111111111111...   \n",
       "0   {'SOL': -0.23697041700000002, 'So1111111111111...   \n",
       "0                                {'SOL': 0.469862274}   \n",
       "\n",
       "                                       counterparties        type  \\\n",
       "0      [5Hr7wZg7oBpVhH5nngRqzr5W7ZFUfCsfEhbziZJak7fr]    TRANSFER   \n",
       "0      [FLiPgGTXtBtEJoytikaywvWgbz5a56DdHKZU72HSYMFF]    TRANSFER   \n",
       "0      [FLiPGqowc82LLR173hKiFYBq2fCxLZEST5iHbHwj8xKb]    TRANSFER   \n",
       "0      [6UgXZZBoydXRNX6SLjwFDUUgn19GhjBpvNAXU3iepzUV]    TRANSFER   \n",
       "0      [GUq7PhyAUZko2mPhv3CupmdJKQ61LH8VyrdsRL25q7zg]    TRANSFER   \n",
       "..                                                ...         ...   \n",
       "0      [FLiPggWYQyKVTULFWMQjAk26JfK5XRCajfyTmD5weaZ7]    TRANSFER   \n",
       "0      [FLiPggWYQyKVTULFWMQjAk26JfK5XRCajfyTmD5weaZ7]    TRANSFER   \n",
       "0   [EGXmJMeeXRAuTLsgk53LYXzGBawpY2Xiqq8FhMQpZauX,...        SWAP   \n",
       "0   [EGXmJMeeXRAuTLsgk53LYXzGBawpY2Xiqq8FhMQpZauX,...  TOKEN_MINT   \n",
       "0      [H8sMJSCQxfKiFTCfDR3DUMLPwcRbM61LGFJ8N4dK3WjS]    TRANSFER   \n",
       "\n",
       "            source tx_status direction  \\\n",
       "0   SYSTEM_PROGRAM   success  received   \n",
       "0   SYSTEM_PROGRAM   success  received   \n",
       "0   SYSTEM_PROGRAM   success  received   \n",
       "0   SYSTEM_PROGRAM   success  received   \n",
       "0   SYSTEM_PROGRAM   success  received   \n",
       "..             ...       ...       ...   \n",
       "0   SYSTEM_PROGRAM   success  received   \n",
       "0   SYSTEM_PROGRAM   success  received   \n",
       "0          JUPITER   success  received   \n",
       "0          UNKNOWN    failed      sent   \n",
       "0         COINBASE   success  received   \n",
       "\n",
       "                                    counterparty       slot    tx_fee  \\\n",
       "0   5Hr7wZg7oBpVhH5nngRqzr5W7ZFUfCsfEhbziZJak7fr  331670303  0.000006   \n",
       "0   FLiPgGTXtBtEJoytikaywvWgbz5a56DdHKZU72HSYMFF  331561835  0.000005   \n",
       "0   FLiPGqowc82LLR173hKiFYBq2fCxLZEST5iHbHwj8xKb  331561822  0.000005   \n",
       "0   6UgXZZBoydXRNX6SLjwFDUUgn19GhjBpvNAXU3iepzUV  331557009  0.000005   \n",
       "0   GUq7PhyAUZko2mPhv3CupmdJKQ61LH8VyrdsRL25q7zg  331556964  0.000005   \n",
       "..                                           ...        ...       ...   \n",
       "0   FLiPggWYQyKVTULFWMQjAk26JfK5XRCajfyTmD5weaZ7  229991035  0.000005   \n",
       "0   FLiPggWYQyKVTULFWMQjAk26JfK5XRCajfyTmD5weaZ7  229990970  0.000005   \n",
       "0                                           None  229990897  0.000005   \n",
       "0                                           None  229988531  0.000005   \n",
       "0   H8sMJSCQxfKiFTCfDR3DUMLPwcRbM61LGFJ8N4dK3WjS  229987783  0.000007   \n",
       "\n",
       "                                     program_id  PRE_BALANCE   BALANCE SYMBOL  \\\n",
       "0              11111111111111111111111111111111     0.017773  0.017773    SOL   \n",
       "0              11111111111111111111111111111111     0.017773  0.017773    SOL   \n",
       "0              11111111111111111111111111111111     0.017773  0.017773    SOL   \n",
       "0              11111111111111111111111111111111     0.017763  0.017773    SOL   \n",
       "0              11111111111111111111111111111111     0.017763  0.017763    SOL   \n",
       "..                                          ...          ...       ...    ...   \n",
       "0              11111111111111111111111111111111          NaN       NaN    NaN   \n",
       "0              11111111111111111111111111111111          NaN       NaN    NaN   \n",
       "0   TokenkegQfeZyiNwAJbNbGKPFXCWuBvf9Ss623VQ5DA     0.469857  0.232884    SOL   \n",
       "0   TokenkegQfeZyiNwAJbNbGKPFXCWuBvf9Ss623VQ5DA     0.469862  0.469857    SOL   \n",
       "0              11111111111111111111111111111111     0.000000  0.469862    SOL   \n",
       "\n",
       "      NAME                                         MINT  \n",
       "0   Solana  So11111111111111111111111111111111111111111  \n",
       "0   Solana  So11111111111111111111111111111111111111111  \n",
       "0   Solana  So11111111111111111111111111111111111111111  \n",
       "0   Solana  So11111111111111111111111111111111111111111  \n",
       "0   Solana  So11111111111111111111111111111111111111111  \n",
       "..     ...                                          ...  \n",
       "0      NaN                                          NaN  \n",
       "0      NaN                                          NaN  \n",
       "0   Solana  So11111111111111111111111111111111111111111  \n",
       "0   Solana  So11111111111111111111111111111111111111111  \n",
       "0   Solana  So11111111111111111111111111111111111111111  \n",
       "\n",
       "[493 rows x 17 columns]"
      ]
     },
     "execution_count": 54,
     "metadata": {},
     "output_type": "execute_result"
    }
   ],
   "source": [
    "tx_level_data = pd.DataFrame()\n",
    "\n",
    "for i in parsed_transaction_history:\n",
    "    row = create_row(i, test_address, balance_df)\n",
    "    tx_level_data = pd.concat([tx_level_data, row]).drop_duplicates(subset='signature')\n",
    "\n",
    "tx_level_data"
   ]
  },
  {
   "cell_type": "markdown",
   "metadata": {},
   "source": [
    "# Vybe Data"
   ]
  },
  {
   "cell_type": "markdown",
   "metadata": {},
   "source": [
    "Think we will be able to get human-readable names for some addresses/program ids"
   ]
  },
  {
   "cell_type": "code",
   "execution_count": 57,
   "metadata": {},
   "outputs": [],
   "source": [
    "# Ideally we can cache this weekly; likely doesnt change too frequently\n",
    "\n",
    "def get_vybe_identified_accounts(use_cache=True):\n",
    "\n",
    "    url = \"https://api.vybenetwork.xyz/account/known-accounts\"\n",
    "\n",
    "    headers = {\"accept\": \"application/json\",\"X-API-KEY\":VYBE_API_KEY}\n",
    "\n",
    "    response = requests.get(url, headers=headers)\n",
    "\n",
    "    data = response.json()\n",
    "\n",
    "    identified_addresses = {}\n",
    "    for account in data['accounts']:\n",
    "        address = account.get('ownerAddress')\n",
    "        address = address.lower()\n",
    "        name = account.get('name')\n",
    "        identified_addresses[address] = name\n",
    "\n",
    "    return identified_addresses"
   ]
  },
  {
   "cell_type": "code",
   "execution_count": 58,
   "metadata": {},
   "outputs": [],
   "source": [
    "# Ideally we can cache this weekly; likely doesnt change too frequently\n",
    "\n",
    "def get_vybe_identified_programs(use_cache=True):\n",
    "\n",
    "    url = \"https://api.vybenetwork.xyz/program/known-program-accounts\"\n",
    "\n",
    "    headers = {\"accept\": \"application/json\",\"X-API-KEY\":VYBE_API_KEY}\n",
    "\n",
    "    response = requests.get(url, headers=headers)\n",
    "\n",
    "    data = response.json()\n",
    "\n",
    "    identified_programs = {}\n",
    "\n",
    "    for account in data['programs']:\n",
    "        program_id = account.get('programId')\n",
    "        program_id = program_id.lower()\n",
    "        name = account.get('name')\n",
    "        identified_programs[program_id] = name\n",
    "\n",
    "    return identified_programs"
   ]
  },
  {
   "cell_type": "code",
   "execution_count": 59,
   "metadata": {},
   "outputs": [],
   "source": [
    "vybe_programs_map = get_vybe_identified_programs()"
   ]
  },
  {
   "cell_type": "code",
   "execution_count": 60,
   "metadata": {},
   "outputs": [],
   "source": [
    "vybe_addresses_map = get_vybe_identified_accounts()"
   ]
  },
  {
   "cell_type": "markdown",
   "metadata": {},
   "source": [
    "# Cross-Reference programIds and counterparties with known accounts/programs"
   ]
  },
  {
   "cell_type": "code",
   "execution_count": 62,
   "metadata": {},
   "outputs": [],
   "source": [
    "vybe_programs_map = {k.lower(): v for k, v in vybe_programs_map.items()}\n",
    "vybe_addresses_map = {k.lower(): v for k, v in vybe_addresses_map.items()}\n",
    "\n",
    "# Add human-readable labels using .get() + str.lower()\n",
    "tx_level_data['program_name'] = tx_level_data['program_id'].str.lower().map(lambda pid: vybe_programs_map.get(pid, 'Unknown Program'))\n",
    "\n",
    "tx_level_data['counterparty_name'] = tx_level_data['counterparty'].astype(str).str.lower().map(lambda addr: vybe_addresses_map.get(addr, 'Unknown Address'))\n"
   ]
  },
  {
   "cell_type": "code",
   "execution_count": 63,
   "metadata": {},
   "outputs": [
    {
     "data": {
      "text/plain": [
       "array(['MEXC Exchange', 'Coinbase Exchange 1', 'Kamino Reserve 1',\n",
       "       'SolBlaze Airdrop Wallet', 'Coinbase Exchange 3'], dtype=object)"
      ]
     },
     "execution_count": 63,
     "metadata": {},
     "output_type": "execute_result"
    }
   ],
   "source": [
    "# Labeled addresses that test wallet has interacted with\n",
    "\n",
    "tx_level_data[tx_level_data['counterparty_name']!='Unknown Address']['counterparty_name'].unique()"
   ]
  },
  {
   "cell_type": "code",
   "execution_count": 64,
   "metadata": {},
   "outputs": [
    {
     "data": {
      "text/plain": [
       "array(['Jupiter Swap V6', 'Allbridge Core', 'MPL Bubblegum',\n",
       "       'PENGU Airdrop Claiming', 'Jupiter Swap V2', 'Parcl V3',\n",
       "       'Kamino Program', 'Kamino Lend'], dtype=object)"
      ]
     },
     "execution_count": 64,
     "metadata": {},
     "output_type": "execute_result"
    }
   ],
   "source": [
    "# Labeled programs that test wallet has interacted with\n",
    "\n",
    "tx_level_data[tx_level_data['program_name']!='Unknown Program']['program_name'].unique()"
   ]
  },
  {
   "cell_type": "code",
   "execution_count": 65,
   "metadata": {},
   "outputs": [],
   "source": [
    "# Saving for analysis in other notebooks\n",
    "\n",
    "tx_level_data.to_csv('../data/test_acc_timeseries.csv')"
   ]
  },
  {
   "cell_type": "markdown",
   "metadata": {},
   "source": [
    "# Nansen Data"
   ]
  },
  {
   "cell_type": "code",
   "execution_count": 67,
   "metadata": {},
   "outputs": [],
   "source": [
    "# I think the API is not public yet"
   ]
  },
  {
   "cell_type": "markdown",
   "metadata": {},
   "source": [
    "# Misc"
   ]
  },
  {
   "cell_type": "code",
   "execution_count": 69,
   "metadata": {},
   "outputs": [],
   "source": [
    "# # helpers/utility.py\n",
    "# def _make_post_request(url: str, payload: dict, headers: dict) -> dict:\n",
    "#     response = requests.post(url, json=payload, headers=headers)\n",
    "#     if response.status_code == 200:\n",
    "#         return response.json()\n",
    "#     else:\n",
    "#         raise ValueError(f\"Error: {response.status_code}: {response.text}\")"
   ]
  },
  {
   "cell_type": "code",
   "execution_count": 70,
   "metadata": {},
   "outputs": [],
   "source": [
    "# # Initialize with your API key (ensure it's valid and active)\n",
    "# #HELIUS_API_KEY = os.getenv(\"api_key\")  \n",
    "# tx_api = TransactionsAPI(api_key=HELIUS_API_KEY)\n",
    "\n",
    "# tx_api"
   ]
  },
  {
   "cell_type": "code",
   "execution_count": 71,
   "metadata": {},
   "outputs": [],
   "source": [
    "# # Example usage\n",
    "# transactions = [\"\"]  # Your transaction signatures\n",
    "# response = tx_api.get_parsed_transactions(transactions)\n",
    "# print(response)"
   ]
  },
  {
   "cell_type": "code",
   "execution_count": 72,
   "metadata": {},
   "outputs": [
    {
     "data": {
      "text/plain": [
       "<helius.balances.BalancesAPI at 0x1e7593f8bf0>"
      ]
     },
     "execution_count": 72,
     "metadata": {},
     "output_type": "execute_result"
    }
   ],
   "source": [
    "balances_api = BalancesAPI(HELIUS_API_KEY)\n",
    "balances_api"
   ]
  },
  {
   "cell_type": "code",
   "execution_count": 73,
   "metadata": {},
   "outputs": [
    {
     "data": {
      "text/plain": [
       "{'tokens': [{'tokenAccount': '2nKanNe6tDM5aXc2ZNvYeVKpdw4Y26dvzS19FmPiJJ4S',\n",
       "   'mint': 'JD8gUc2qfvmwxtttRviHSRZ4pbGKy5nha2vdEULwx3r5',\n",
       "   'amount': 3888000000,\n",
       "   'decimals': 6},\n",
       "  {'tokenAccount': 'GXnj7rSQtBUWcQbeP5QEyKJyv4br64uckb8xsS1sBY11',\n",
       "   'mint': 'G4hdrdhnboNgFXo1uP21VwZ9zrNbxwZDmtpZt2Mnpump',\n",
       "   'amount': 12126567051,\n",
       "   'decimals': 6},\n",
       "  {'tokenAccount': '4yLdi6X9xLRV3eezR3raibRoeAxotJA3n29uEsRfoNHL',\n",
       "   'mint': 'Em9zr2tgSmGgRbz3kxyQeRXjRi9oc13wMu6cKam4zWFW',\n",
       "   'amount': 74500000,\n",
       "   'decimals': 6},\n",
       "  {'tokenAccount': '6XWCWkwCdbBTzK5GrtTCVRQqXaB2QGuDHqZsXEt9KbBo',\n",
       "   'mint': 'EWx3xDR76YfxF3VHwTLgwU9WYrwANw3yxX5vvk8Kpump',\n",
       "   'amount': 119000000,\n",
       "   'decimals': 6},\n",
       "  {'tokenAccount': 'HSrx5V9PUuazeuen6ZYaid2o1KUbiLwDaRmJdjBmqrJZ',\n",
       "   'mint': 'HD1sDvk9jjUgRv6XmVYje7ghV3udzCZhotgxSortBdga',\n",
       "   'amount': 1434339522508,\n",
       "   'decimals': 9},\n",
       "  {'tokenAccount': '8kuTaQgk46Wo7PCuXfZuySEP85fZRgVbvCXkAfwVmt9S',\n",
       "   'mint': 'Hk82ay38uGpYgqjdXXCiATavVQwAMaBNyxsUWbapmKuL',\n",
       "   'amount': 1000000000,\n",
       "   'decimals': 6},\n",
       "  {'tokenAccount': '5Kii5utYQ31sMTH61EiUk3sEsjsxLdf3emEapPtt5oqx',\n",
       "   'mint': 'H3c9RZhvCzxQSmLULh4RsJC8GuK9rVNV2bcoLhMQmoon',\n",
       "   'amount': 0,\n",
       "   'decimals': 9},\n",
       "  {'tokenAccount': '37vryqQ6z4j7sdAJjTMAmzVKDkadzi4ZGcVoPkoToVqb',\n",
       "   'mint': 'EPjFWdd5AufqSSqeM2qN1xzybapC8G4wEGGkZwyTDt1v',\n",
       "   'amount': 33378,\n",
       "   'decimals': 6},\n",
       "  {'tokenAccount': 'BCLg84ranBtCtNdJW4CvYMoJPqqHSUFmjCmiyBDDt4MM',\n",
       "   'mint': '2qAx8nkVedYNNff19N4CZZJT66etYgSyWcYvNasGpump',\n",
       "   'amount': 0,\n",
       "   'decimals': 6},\n",
       "  {'tokenAccount': '2szUXuiZi1TNXaEVfyoezJ8nWigyrB3DmqTz7sbvmqbf',\n",
       "   'mint': '47ixSEoXn9KUnZ9FjCD78NSWDd4RxKUjcwSSYMSnpump',\n",
       "   'amount': 0,\n",
       "   'decimals': 6},\n",
       "  {'tokenAccount': 'AvnWQTMCokoRR9wd8pYJwA5JbTLS3ZX97fSNDqD1g8v7',\n",
       "   'mint': '3DH8WZ6C2HdDR4J9ekYnTfai8Tx8mxn92mW8zcYmP4px',\n",
       "   'amount': 354000000000,\n",
       "   'decimals': 9},\n",
       "  {'tokenAccount': '5iPPv6kqUA5BLgkQRwChbWNa17o14dU1GS9ksxgZfXG1',\n",
       "   'mint': 'GRUmPYbiTpq9ZPy5LAqBMMze7kErf5dEX2i9qYfwoSmR',\n",
       "   'amount': 0,\n",
       "   'decimals': 9},\n",
       "  {'tokenAccount': 'yUust47qP81xa2aLy9pUodUw1AfoDbezfse4yGw7Wzz',\n",
       "   'mint': 'HAPPYwgFcjEJDzRtfWE6tiHE9zGdzpNky2FvjPHsvvGZ',\n",
       "   'amount': 0,\n",
       "   'decimals': 9}],\n",
       " 'nativeBalance': 28313564}"
      ]
     },
     "execution_count": 73,
     "metadata": {},
     "output_type": "execute_result"
    }
   ],
   "source": [
    "balances_api.get_balances(\"hq8fC9VkxU6rv1QvMUkGKbhFR3MxSd7nCkCGaaXx9MA\")"
   ]
  }
 ],
 "metadata": {
  "kernelspec": {
   "display_name": "solana_analysis_tool_env",
   "language": "python",
   "name": "solana_analysis_tool_env"
  },
  "language_info": {
   "codemirror_mode": {
    "name": "ipython",
    "version": 3
   },
   "file_extension": ".py",
   "mimetype": "text/x-python",
   "name": "python",
   "nbconvert_exporter": "python",
   "pygments_lexer": "ipython3",
   "version": "3.12.4"
  }
 },
 "nbformat": 4,
 "nbformat_minor": 4
}
