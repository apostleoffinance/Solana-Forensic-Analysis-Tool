{
 "cells": [
  {
   "cell_type": "code",
   "execution_count": 1,
   "id": "d954e844",
   "metadata": {},
   "outputs": [
    {
     "name": "stdout",
     "output_type": "stream",
     "text": [
      "            timestamp                                          signature      type          source tx_status  block_number                                token_address  token_amount direction                                        sender                                      receiver                                  counterparty    tx_fee                        program_id  PRE_BALANCE  POST_BALANCE SYMBOL TOKEN_NAME symbol        day       price  token_amount_usd\n",
      "0 2025-04-06 12:12:19  6mPqrKS4AKYJeZ3JLjjubHSwNB96oiJdFX1DgeZNZEBHxM...  TRANSFER  SYSTEM_PROGRAM   success   331670303.0  So11111111111111111111111111111111111111111  1.000000e-09  received  5Hr7wZg7oBpVhH5nngRqzr5W7ZFUfCsfEhbziZJak7fr  AGPZnBZUxmhAtcp8XjT4n8bCia9dEYhhm16M2sfFvmTU  5Hr7wZg7oBpVhH5nngRqzr5W7ZFUfCsfEhbziZJak7fr  0.000006  11111111111111111111111111111111     0.017773      0.017773    SOL     Solana    NaN 2025-04-06  116.447500      1.164475e-07\n",
      "1 2025-04-06 00:10:50  29aP1yrCx2dbJM4Mxk8257G5e87bY7CgxySDS6LiAAmsxX...  TRANSFER  SYSTEM_PROGRAM   success   331561835.0  So11111111111111111111111111111111111111111  1.000000e-09  received  FLiPgGTXtBtEJoytikaywvWgbz5a56DdHKZU72HSYMFF  AGPZnBZUxmhAtcp8XjT4n8bCia9dEYhhm16M2sfFvmTU  FLiPgGTXtBtEJoytikaywvWgbz5a56DdHKZU72HSYMFF  0.000005  11111111111111111111111111111111     0.017773      0.017773    SOL     Solana    NaN 2025-04-06  116.447500      1.164475e-07\n",
      "2 2025-04-06 00:10:45  2D7D4ndxhZfwZ6TRN6pzY7PQEFkRKTQhQjQ1zpz5MyNDVS...  TRANSFER  SYSTEM_PROGRAM   success   331561822.0  So11111111111111111111111111111111111111111  1.000000e-09  received  FLiPGqowc82LLR173hKiFYBq2fCxLZEST5iHbHwj8xKb  AGPZnBZUxmhAtcp8XjT4n8bCia9dEYhhm16M2sfFvmTU  FLiPGqowc82LLR173hKiFYBq2fCxLZEST5iHbHwj8xKb  0.000005  11111111111111111111111111111111     0.017773      0.017773    SOL     Solana    NaN 2025-04-06  116.447500      1.164475e-07\n",
      "3 2025-04-05 23:38:43  nPrzWnG7SLNepcPeBWjEMKadD6WNuWScRgEwEqSNsHiZNN...  TRANSFER  SYSTEM_PROGRAM   success   331557009.0  So11111111111111111111111111111111111111111  1.000000e-05  received  6UgXZZBoydXRNX6SLjwFDUUgn19GhjBpvNAXU3iepzUV  AGPZnBZUxmhAtcp8XjT4n8bCia9dEYhhm16M2sfFvmTU  6UgXZZBoydXRNX6SLjwFDUUgn19GhjBpvNAXU3iepzUV  0.000005  11111111111111111111111111111111     0.017763      0.017773    SOL     Solana    NaN 2025-04-05  120.140417      1.201404e-03\n",
      "4 2025-04-05 23:38:25  yqSAMWuNg3pC9H5EZJmTr1MudCuUajZye13BMfaS2atLvC...  TRANSFER  SYSTEM_PROGRAM   success   331556964.0  So11111111111111111111111111111111111111111  1.000000e-09  received  GUq7PhyAUZko2mPhv3CupmdJKQ61LH8VyrdsRL25q7zg  AGPZnBZUxmhAtcp8XjT4n8bCia9dEYhhm16M2sfFvmTU  GUq7PhyAUZko2mPhv3CupmdJKQ61LH8VyrdsRL25q7zg  0.000005  11111111111111111111111111111111     0.017763      0.017763    SOL     Solana    NaN 2025-04-05  120.140417      1.201404e-07\n"
     ]
    }
   ],
   "source": [
    "import pandas as pd\n",
    "import numpy as np\n",
    "from datetime import datetime\n",
    "\n",
    "%store -r tx_level_data\n",
    "\n",
    "pd.set_option('display.width', 200)  # Set a large width\n",
    "pd.set_option('display.max_columns', None)  # Show all columns\n",
    "pd.set_option('display.expand_frame_repr', False)  # Prevent line wrapping\n",
    "\n",
    "\n",
    "\n",
    "print(tx_level_data.head())"
   ]
  },
  {
   "cell_type": "code",
   "execution_count": 2,
   "id": "047cdf3f",
   "metadata": {},
   "outputs": [
    {
     "data": {
      "text/plain": [
       "['timestamp',\n",
       " 'signature',\n",
       " 'type',\n",
       " 'source',\n",
       " 'tx_status',\n",
       " 'block_number',\n",
       " 'token_address',\n",
       " 'token_amount',\n",
       " 'direction',\n",
       " 'sender',\n",
       " 'receiver',\n",
       " 'counterparty',\n",
       " 'tx_fee',\n",
       " 'program_id',\n",
       " 'PRE_BALANCE',\n",
       " 'POST_BALANCE',\n",
       " 'SYMBOL',\n",
       " 'TOKEN_NAME',\n",
       " 'symbol',\n",
       " 'day',\n",
       " 'price',\n",
       " 'token_amount_usd']"
      ]
     },
     "execution_count": 2,
     "metadata": {},
     "output_type": "execute_result"
    }
   ],
   "source": [
    "tx_level_data.columns.to_list()"
   ]
  },
  {
   "cell_type": "markdown",
   "id": "bae59105",
   "metadata": {},
   "source": [
    "# Data Cleaning "
   ]
  },
  {
   "cell_type": "code",
   "execution_count": 3,
   "id": "7f4f419e",
   "metadata": {},
   "outputs": [],
   "source": [
    "def clean_tx_data(df):\n",
    "    df = df.copy()  # Avoid SettingWithCopyWarning\n",
    "\n",
    "    # Fill missing columns\n",
    "    default_columns = [\n",
    "        'sender_name', 'receiver_name', 'counterparty_name', \n",
    "        'wallet_entity_label', 'program_name'\n",
    "    ]\n",
    "    for col in default_columns:\n",
    "        if col not in df.columns:\n",
    "            df[col] = 'Unknown Address' if col != 'program_name' else 'Unknown Program'\n",
    "\n",
    "    # Only apply fallback logic if 'wallet' column exists\n",
    "    if 'wallet' in df.columns:\n",
    "        df.loc[:, 'sender_name'] = np.where(\n",
    "            df['sender'].isin(df['wallet'].values),\n",
    "            df['wallet_entity_label'],\n",
    "            df['sender_name']\n",
    "        )\n",
    "\n",
    "        df.loc[:, 'receiver_name'] = np.where(\n",
    "            df['receiver'].isin(df['wallet'].values),\n",
    "            df['wallet_entity_label'],\n",
    "            df['receiver_name']\n",
    "        )\n",
    "\n",
    "        df.loc[:, 'counterparty_name'] = np.where(\n",
    "            df['counterparty'].isin(df['wallet'].values),\n",
    "            df['wallet_entity_label'],\n",
    "            df['counterparty_name']\n",
    "        )\n",
    "\n",
    "    # Convert timestamp to datetime\n",
    "    if 'timestamp' in df.columns:\n",
    "        df.loc[:, 'timestamp'] = pd.to_datetime(df['timestamp'])\n",
    "\n",
    "    return df\n"
   ]
  },
  {
   "cell_type": "markdown",
   "id": "b75f4986",
   "metadata": {},
   "source": [
    "# Transaction Flow Aggregation"
   ]
  },
  {
   "cell_type": "code",
   "execution_count": 4,
   "id": "bece4f8a",
   "metadata": {},
   "outputs": [],
   "source": [
    "def build_tx_graph(df):\n",
    "    nodes = {}\n",
    "    edges = []\n",
    "\n",
    "    for _, row in df.iterrows():\n",
    "        sender = row['sender']\n",
    "        receiver = row['receiver']\n",
    "        sender_label = row['sender_name']\n",
    "        receiver_label = row['receiver_name']\n",
    "        amount_usd = row.get('amount_usd', 0)  # Ensure amount_usd has a fallback value\n",
    "\n",
    "        # Initialize sender node if not already present\n",
    "        if sender not in nodes:\n",
    "            nodes[sender] = {\n",
    "                \"id\": sender,\n",
    "                \"label\": sender_label,\n",
    "                \"amount_usd_sent\": 0,\n",
    "                \"amount_usd_received\": 0\n",
    "            }\n",
    "\n",
    "        # Initialize receiver node if not already present\n",
    "        if receiver not in nodes:\n",
    "            nodes[receiver] = {\n",
    "                \"id\": receiver,\n",
    "                \"label\": receiver_label,\n",
    "                \"amount_usd_sent\": 0,\n",
    "                \"amount_usd_received\": 0\n",
    "            }\n",
    "\n",
    "        # Add amount to the sender's \"sent\" total, ensuring no NoneType errors\n",
    "        nodes[sender][\"amount_usd_sent\"] += amount_usd if amount_usd is not None else 0\n",
    "\n",
    "        # Add amount to the receiver's \"received\" total, ensuring no NoneType errors\n",
    "        nodes[receiver][\"amount_usd_received\"] += amount_usd if amount_usd is not None else 0\n",
    "\n",
    "        # Add edge between sender and receiver\n",
    "        edges.append({\n",
    "            \"from\": sender,\n",
    "            \"to\": receiver,\n",
    "            \"value\": amount_usd if amount_usd is not None else 0\n",
    "        })\n",
    "\n",
    "    return {\"nodes\": nodes, \"edges\": edges}\n"
   ]
  },
  {
   "cell_type": "code",
   "execution_count": 5,
   "id": "133a707e",
   "metadata": {},
   "outputs": [
    {
     "name": "stdout",
     "output_type": "stream",
     "text": [
      "✅ Cleaned and graph data saved to tx_graph.json\n"
     ]
    }
   ],
   "source": [
    "# Example usage\n",
    "if __name__ == \"__main__\":\n",
    "    tx_level_data_clean = clean_tx_data(tx_level_data)\n",
    "    tx_graph = build_tx_graph(tx_level_data_clean)\n",
    "\n",
    "    import json\n",
    "    with open(\"tx_graph.json\", \"w\") as f:\n",
    "        json.dump(tx_graph, f, indent=2)\n",
    "\n",
    "\n",
    "    print(\"✅ Cleaned and graph data saved to tx_graph.json\")"
   ]
  }
 ],
 "metadata": {
  "kernelspec": {
   "display_name": "solana-forensics",
   "language": "python",
   "name": "python3"
  },
  "language_info": {
   "codemirror_mode": {
    "name": "ipython",
    "version": 3
   },
   "file_extension": ".py",
   "mimetype": "text/x-python",
   "name": "python",
   "nbconvert_exporter": "python",
   "pygments_lexer": "ipython3",
   "version": "3.13.2"
  }
 },
 "nbformat": 4,
 "nbformat_minor": 5
}
